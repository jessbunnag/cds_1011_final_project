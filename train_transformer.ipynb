{
 "cells": [
  {
   "cell_type": "code",
   "execution_count": 1,
   "metadata": {},
   "outputs": [
    {
     "name": "stderr",
     "output_type": "stream",
     "text": [
      "/ext3/conda/1011_project/lib/python3.8/site-packages/tqdm/auto.py:22: TqdmWarning: IProgress not found. Please update jupyter and ipywidgets. See https://ipywidgets.readthedocs.io/en/stable/user_install.html\n",
      "  from .autonotebook import tqdm as notebook_tqdm\n",
      "[nltk_data] Downloading package wordnet to /home/tb2817/nltk_data...\n",
      "[nltk_data]   Package wordnet is already up-to-date!\n",
      "[nltk_data] Downloading package omw-1.4 to /home/tb2817/nltk_data...\n",
      "[nltk_data]   Package omw-1.4 is already up-to-date!\n"
     ]
    }
   ],
   "source": [
    "import torch \n",
    "import torch.nn as nn\n",
    "import torch.nn.functional as F\n",
    "from torch.optim.lr_scheduler import StepLR\n",
    "\n",
    "from encoder import *\n",
    "from AttnDecoder import * \n",
    "from seq2seq_transformer import *\n",
    "\n",
    "from build_dataset import *\n",
    "from inference import *\n",
    "from tqdm import tqdm\n",
    "\n",
    "from greedy_search import generate_question"
   ]
  },
  {
   "cell_type": "markdown",
   "metadata": {},
   "source": [
    "# 1. Load dataloaders "
   ]
  },
  {
   "cell_type": "code",
   "execution_count": 10,
   "metadata": {},
   "outputs": [],
   "source": [
    "# set whether or not model is pretrained\n",
    "model_pretrained = False"
   ]
  },
  {
   "cell_type": "code",
   "execution_count": 3,
   "metadata": {},
   "outputs": [],
   "source": [
    "# load data \n",
    "main_data_path = \"data/processed\"\n",
    "\n",
    "train_file_path = {\n",
    "    'source': f\"{main_data_path}/src-train.txt\",\n",
    "    'target': f\"{main_data_path}/tgt-train.txt\"\n",
    "}\n",
    "\n",
    "test_file_path = {\n",
    "    'source': f\"{main_data_path}/src-test.txt\",\n",
    "    'target': f\"{main_data_path}/tgt-test.txt\"\n",
    "}\n",
    "\n",
    "dev_file_path = {\n",
    "    'source': f\"{main_data_path}/src-dev.txt\",\n",
    "    'target': f\"{main_data_path}/tgt-dev.txt\"\n",
    "}\n",
    "\n",
    "# build vocab with train data only \n",
    "vocab = build_train_vocab(train_file_path)\n",
    "\n",
    "# build datasets for all train, test, dev\n",
    "datasets = {\n",
    "    'train': QAPair(train_file_path, vocab),\n",
    "    'test': QAPair(test_file_path, vocab),\n",
    "    'dev': QAPair(dev_file_path, vocab),\n",
    "}\n",
    "\n",
    "# build dataloaders\n",
    "batch_size = 64\n",
    "dataloaders = {}\n",
    "for split, dataset in datasets.items():\n",
    "    dataloaders[split] = DataLoader(\n",
    "        dataset, \n",
    "        batch_size=batch_size, \n",
    "        shuffle=True, \n",
    "        collate_fn=partial(pad_collate_fn, pad_token=dataset.pad_idx)\n",
    "    )"
   ]
  },
  {
   "cell_type": "markdown",
   "metadata": {},
   "source": [
    "# 2. Load parsed GloVe embeddings"
   ]
  },
  {
   "cell_type": "code",
   "execution_count": 4,
   "metadata": {},
   "outputs": [],
   "source": [
    "embed_size = 300\n",
    "pretrained_vectors = {\n",
    "    'enc': torch.load(f'embeddings/encoder_emb_{embed_size}.pt').float(),\n",
    "    'dec': torch.load(f'embeddings/decoder_emb_{embed_size}.pt').float()\n",
    "}\n",
    "\n",
    "# input_size = len(train_dataset.answer_vocab) \n",
    "output_size = len(vocab['target'])"
   ]
  },
  {
   "cell_type": "markdown",
   "metadata": {},
   "source": [
    "# 3. Train loop"
   ]
  },
  {
   "cell_type": "markdown",
   "metadata": {},
   "source": [
    "## 3.1 Define train and eval steps"
   ]
  },
  {
   "cell_type": "code",
   "execution_count": 5,
   "metadata": {},
   "outputs": [],
   "source": [
    "def train_step(batch, model, optimizer, criterion, device):\n",
    "    model.train()\n",
    "    source = batch.source_vecs.to(device) \n",
    "    source_len = batch.source_lens.to(device)\n",
    "    target = batch.target_vecs.to(device)\n",
    "    target_len = batch.target_lens.to(device) \n",
    "\n",
    "    target_input = target[:, :-1]\n",
    "\n",
    "    src_mask, tgt_mask, src_padding_mask, tgt_padding_mask = create_mask(source, target_input)\n",
    "\n",
    "    logits = model(source, target_input, src_mask, tgt_mask, src_padding_mask, tgt_padding_mask, src_padding_mask)\n",
    "    \n",
    "    optimizer.zero_grad()\n",
    "\n",
    "    target_out = target[:, 1:]\n",
    "    # print(f'dec_log_probs {dec_log_probs.shape}')\n",
    "    # print(f'target_out {target_out.shape}')\n",
    "    loss = criterion(logits.transpose(1, 2), target_out)\n",
    "    loss.backward()\n",
    "    # clip gradients\n",
    "    # nn.utils.clip_grad_norm_(model.parameters(), max_norm=5.0, norm_type=2)\n",
    "    \n",
    "    optimizer.step()\n",
    "\n",
    "    # return the attention scores at the last time step\n",
    "    return loss.item(), logits\n",
    "\n",
    "def eval_step(batch, model, criterion, device):\n",
    "    model.eval()\n",
    "    source = batch.source_vecs.to(device) \n",
    "    inputs_len = batch.source_lens.to(device)\n",
    "    target = batch.target_vecs.to(device)\n",
    "    target_len = batch.target_lens.to(device) \n",
    "\n",
    "    target_input = target[:, :-1]\n",
    "\n",
    "    src_mask, tgt_mask, src_padding_mask, tgt_padding_mask = create_mask(source, target_input)\n",
    "\n",
    "    logits = model(source, target_input, src_mask, tgt_mask, src_padding_mask, tgt_padding_mask, src_padding_mask)\n",
    "    \n",
    "    target_out = target[:, 1:]\n",
    "\n",
    "    # scores = s2s_output.view(-1, s2s_output.size(-1))\n",
    "    \n",
    "    loss = criterion(logits.transpose(1, 2), target_out)\n",
    "\n",
    "    # return the attention scores at the last time step\n",
    "    return loss.item(), logits\n",
    "    "
   ]
  },
  {
   "cell_type": "markdown",
   "metadata": {},
   "source": [
    "## 3.2 Run train loop"
   ]
  },
  {
   "cell_type": "code",
   "execution_count": 11,
   "metadata": {},
   "outputs": [],
   "source": [
    "# TRAIN LOOP \n",
    "NUM_ENCODER_LAYERS = 2\n",
    "NUM_DECODER_LAYERS = 2\n",
    "EMBED_SIZE = 300\n",
    "NHEAD = 10\n",
    "\n",
    "if not model_pretrained:\n",
    "    # initial learning rate\n",
    "    lr = 0.01\n",
    "    # initialize the model, optimizer, and criterion\n",
    "    seq2seq = Seq2SeqTransformer(\n",
    "        NUM_ENCODER_LAYERS,\n",
    "        NUM_DECODER_LAYERS,\n",
    "        EMBED_SIZE,\n",
    "        NHEAD,\n",
    "        pretrained_vectors, \n",
    "        tgt_vocab_size=len(vocab['target'])\n",
    "    )\n",
    "    optimizer = torch.optim.SGD(seq2seq.parameters(), lr=lr)\n",
    "    criterion = nn.CrossEntropyLoss(ignore_index=datasets['train'].pad_idx)\n",
    "    device = \"cuda\" if torch.cuda.is_available() else \"cpu\"\n",
    "\n",
    "    seq2seq.to(device)\n",
    "\n",
    "    plot_cache = {}\n",
    "    plot_cache['train'] = []\n",
    "    plot_cache['dev'] = []\n",
    "\n",
    "    # halve lr at epoch 8\n",
    "    scheduler = StepLR(optimizer, step_size=20, gamma=0.5) \n",
    "\n",
    "    NUM_EPOCHS = 15\n",
    "    for epoch in tqdm(range(NUM_EPOCHS)):    \n",
    "        # train \n",
    "        train_losses = []\n",
    "        for i, data in tqdm(enumerate(dataloaders['train']), leave=False):\n",
    "            curr_loss, dec_log_probs = train_step(data, seq2seq, optimizer, criterion, device)\n",
    "\n",
    "            train_losses.append(curr_loss)\n",
    "\n",
    "        avg_train_loss = np.mean(train_losses)\n",
    "        print(f'Train loss after epoch {epoch+1} = {avg_train_loss}')\n",
    "\n",
    "        # eval \n",
    "        test_losses = []\n",
    "        with torch.no_grad():\n",
    "            for i, data in tqdm(enumerate(dataloaders['dev']), leave=False):\n",
    "                curr_loss, dec_log_probs = eval_step(data, seq2seq, criterion, device)\n",
    "\n",
    "                test_losses.append(curr_loss)\n",
    "\n",
    "            avg_test_loss = np.mean(test_losses)\n",
    "            print(f'Dev loss after epoch {epoch+1} = {avg_test_loss}')\n",
    "\n",
    "        plot_cache['train'].append(avg_train_loss)\n",
    "        plot_cache['dev'].append(avg_test_loss)\n",
    "\n",
    "        scheduler.step()\n",
    "\n",
    "    # save the model state\n",
    "    torch.save({'state_dict': seq2seq.state_dict(), 'plot_cache': plot_cache}, 'trained_transformer_statedict.pt')\n",
    "else:\n",
    "    # reload the model\n",
    "    seq2seq = Seq2SeqTransformer(\n",
    "        NUM_ENCODER_LAYERS,\n",
    "        NUM_DECODER_LAYERS,\n",
    "        EMBED_SIZE,\n",
    "        NHEAD,\n",
    "        pretrained_vectors, \n",
    "        tgt_vocab_size=len(vocab['target'])\n",
    "    )\n",
    "    criterion = nn.CrossEntropyLoss(ignore_index=datasets['train'].pad_idx)\n",
    "    device = \"cuda\" if torch.cuda.is_available() else \"cpu\"\n",
    "    seq2seq.to(device)\n",
    "\n",
    "    checkpoint = torch.load('trained_transformer_statedict.pt')\n",
    "    seq2seq.load_state_dict(checkpoint['state_dict'])\n",
    "    plot_cache = checkpoint['plot_cache']"
   ]
  },
  {
   "cell_type": "code",
   "execution_count": 12,
   "metadata": {},
   "outputs": [
    {
     "name": "stderr",
     "output_type": "stream",
     "text": [
      "                        "
     ]
    },
    {
     "name": "stdout",
     "output_type": "stream",
     "text": [
      "Average Test Loss = 5.281587436635007\n",
      "Average BLEU_1 Score = 0.21945100910726836\n",
      "Average BLEU_2 Score = 0.048696900012918\n",
      "Average BLEU_3 Score = 0.011120281844419898\n",
      "Average BLEU_4 Score = 0.006482438410266793\n",
      "Average METEOR Score = 0.12119096413970686\n",
      "Average ROUGE_L Score = 0.1724618822336197\n"
     ]
    },
    {
     "name": "stderr",
     "output_type": "stream",
     "text": [
      "\r"
     ]
    }
   ],
   "source": [
    "# run inference on the test set\n",
    "test_losses = []\n",
    "all_best_attn_labels = []\n",
    "all_preds_list = []\n",
    "all_labels_list = []\n",
    "raw_labels_list = []\n",
    "raw_source_list = []\n",
    "all_cleaned_preds_list = []\n",
    "all_bleu_1 = []\n",
    "all_bleu_2 = []\n",
    "all_bleu_3 = []\n",
    "all_bleu_4 = []\n",
    "all_meteor = []\n",
    "all_rouge_l = []\n",
    "with torch.no_grad():\n",
    "    for i, data in tqdm(enumerate(dataloaders['test']), leave=False):\n",
    "        # run evaluation on the test set\n",
    "        curr_loss, dec_log_probs = eval_step(data, seq2seq, criterion, device)\n",
    "        test_losses.append(curr_loss)\n",
    "\n",
    "        # run vanilla inference on the test set\n",
    "        preds_list, labels_list = vanilla_inference(dec_log_probs, data.target_vecs, vocab['target'])\n",
    "\n",
    "        # evaluate the predictions with the metrics\n",
    "        bleu_1, bleu_2, bleu_3, bleu_4, meteor, rouge_l = eval_metrics(preds_list, labels_list) # meteor, rouge_l\n",
    "        all_bleu_1.append(bleu_1)\n",
    "        all_bleu_2.append(bleu_2)\n",
    "        all_bleu_3.append(bleu_3)\n",
    "        all_bleu_4.append(bleu_4)\n",
    "        all_meteor.append(meteor)\n",
    "        all_rouge_l.append(rouge_l)\n",
    "\n",
    "        all_preds_list.append(preds_list)\n",
    "        all_labels_list.append(labels_list)\n",
    "        # all_cleaned_preds_list.append(cleaned_preds_list)\n",
    "        raw_labels_list.append(data.target_data)\n",
    "        raw_source_list.append(data.source_data)\n",
    "\n",
    "    avg_test_loss = np.mean(test_losses)\n",
    "    avg_bleu_1 = np.mean(all_bleu_1)\n",
    "    avg_bleu_2 = np.mean(all_bleu_2)\n",
    "    avg_bleu_3 = np.mean(all_bleu_3)\n",
    "    avg_bleu_4 = np.mean(all_bleu_4)\n",
    "    avg_meteor = np.mean(all_meteor)\n",
    "    avg_rouge_l = np.mean(all_rouge_l)\n",
    "\n",
    "    print(f'Average Test Loss = {avg_test_loss}')\n",
    "    print(f'Average BLEU_1 Score = {avg_bleu_1}')\n",
    "    print(f'Average BLEU_2 Score = {avg_bleu_2}')\n",
    "    print(f'Average BLEU_3 Score = {avg_bleu_3}')\n",
    "    print(f'Average BLEU_4 Score = {avg_bleu_4}')\n",
    "    print(f'Average METEOR Score = {avg_meteor}')\n",
    "    print(f'Average ROUGE_L Score = {avg_rouge_l}')"
   ]
  },
  {
   "cell_type": "code",
   "execution_count": 7,
   "metadata": {},
   "outputs": [
    {
     "name": "stderr",
     "output_type": "stream",
     "text": [
      "0it [00:00, ?it/s]"
     ]
    },
    {
     "name": "stdout",
     "output_type": "stream",
     "text": [
      "src torch.Size([26])\n",
      "src_mask torch.Size([26, 26])\n"
     ]
    },
    {
     "name": "stderr",
     "output_type": "stream",
     "text": [
      "                  "
     ]
    },
    {
     "name": "stdout",
     "output_type": "stream",
     "text": [
      "ys torch.Size([1, 1])\n",
      "memory torch.Size([26, 26, 300])\n",
      "tgt_mask torch.Size([1, 1])\n",
      "embedding torch.Size([1, 1, 300])\n"
     ]
    },
    {
     "name": "stderr",
     "output_type": "stream",
     "text": [
      "\r"
     ]
    },
    {
     "ename": "RuntimeError",
     "evalue": "shape '[26, 10, 30]' is invalid for input of size 202800",
     "output_type": "error",
     "traceback": [
      "\u001b[0;31m---------------------------------------------------------------------------\u001b[0m",
      "\u001b[0;31mRuntimeError\u001b[0m                              Traceback (most recent call last)",
      "\u001b[1;32m/scratch/tb2817/1011_project/train_transformer.ipynb Cell 13\u001b[0m in \u001b[0;36m<cell line: 15>\u001b[0;34m()\u001b[0m\n\u001b[1;32m     <a href='vscode-notebook-cell://ssh-remote%2Bgreenecomputecontainer/scratch/tb2817/1011_project/train_transformer.ipynb#X15sdnNjb2RlLXJlbW90ZQ%3D%3D?line=18'>19</a>\u001b[0m labels_list \u001b[39m=\u001b[39m []\n\u001b[1;32m     <a href='vscode-notebook-cell://ssh-remote%2Bgreenecomputecontainer/scratch/tb2817/1011_project/train_transformer.ipynb#X15sdnNjb2RlLXJlbW90ZQ%3D%3D?line=19'>20</a>\u001b[0m \u001b[39mfor\u001b[39;00m j \u001b[39min\u001b[39;00m \u001b[39mrange\u001b[39m(\u001b[39mlen\u001b[39m(data\u001b[39m.\u001b[39msource_vecs)):\n\u001b[0;32m---> <a href='vscode-notebook-cell://ssh-remote%2Bgreenecomputecontainer/scratch/tb2817/1011_project/train_transformer.ipynb#X15sdnNjb2RlLXJlbW90ZQ%3D%3D?line=20'>21</a>\u001b[0m     pred \u001b[39m=\u001b[39m generate_question(seq2seq, data\u001b[39m.\u001b[39;49msource_data[j], vocab)\n\u001b[1;32m     <a href='vscode-notebook-cell://ssh-remote%2Bgreenecomputecontainer/scratch/tb2817/1011_project/train_transformer.ipynb#X15sdnNjb2RlLXJlbW90ZQ%3D%3D?line=21'>22</a>\u001b[0m     preds_list\u001b[39m.\u001b[39mappend(pred)\n\u001b[1;32m     <a href='vscode-notebook-cell://ssh-remote%2Bgreenecomputecontainer/scratch/tb2817/1011_project/train_transformer.ipynb#X15sdnNjb2RlLXJlbW90ZQ%3D%3D?line=22'>23</a>\u001b[0m     labels_list\u001b[39m.\u001b[39mappend(data\u001b[39m.\u001b[39mtarget_data[i])\n",
      "File \u001b[0;32m/scratch/tb2817/1011_project/greedy_search.py:44\u001b[0m, in \u001b[0;36mgenerate_question\u001b[0;34m(model, src_sentence, vocab)\u001b[0m\n\u001b[1;32m     42\u001b[0m num_tokens \u001b[39m=\u001b[39m src\u001b[39m.\u001b[39mshape[\u001b[39m0\u001b[39m]\n\u001b[1;32m     43\u001b[0m src_mask \u001b[39m=\u001b[39m (torch\u001b[39m.\u001b[39mzeros(num_tokens, num_tokens))\u001b[39m.\u001b[39mtype(torch\u001b[39m.\u001b[39mbool)\n\u001b[0;32m---> 44\u001b[0m tgt_tokens \u001b[39m=\u001b[39m greedy_decode(\n\u001b[1;32m     45\u001b[0m     model,  src, src_mask, max_len\u001b[39m=\u001b[39;49mnum_tokens \u001b[39m+\u001b[39;49m \u001b[39m5\u001b[39;49m, start_symbol\u001b[39m=\u001b[39;49mBOS_IDX)\u001b[39m.\u001b[39mflatten()\n\u001b[1;32m     46\u001b[0m \u001b[39mreturn\u001b[39;00m vocab[\u001b[39m'\u001b[39m\u001b[39mtarget\u001b[39m\u001b[39m'\u001b[39m]\u001b[39m.\u001b[39mdecode_idx2token(tgt_tokens\u001b[39m.\u001b[39mtolist())\n",
      "File \u001b[0;32m/scratch/tb2817/1011_project/greedy_search.py:25\u001b[0m, in \u001b[0;36mgreedy_decode\u001b[0;34m(model, src, src_mask, max_len, start_symbol)\u001b[0m\n\u001b[1;32m     23\u001b[0m \u001b[39mprint\u001b[39m(\u001b[39mf\u001b[39m\u001b[39m'\u001b[39m\u001b[39mmemory \u001b[39m\u001b[39m{\u001b[39;00mmemory\u001b[39m.\u001b[39mshape\u001b[39m}\u001b[39;00m\u001b[39m'\u001b[39m)\n\u001b[1;32m     24\u001b[0m \u001b[39mprint\u001b[39m(\u001b[39mf\u001b[39m\u001b[39m'\u001b[39m\u001b[39mtgt_mask \u001b[39m\u001b[39m{\u001b[39;00mtgt_mask\u001b[39m.\u001b[39mshape\u001b[39m}\u001b[39;00m\u001b[39m'\u001b[39m)\n\u001b[0;32m---> 25\u001b[0m out \u001b[39m=\u001b[39m model\u001b[39m.\u001b[39;49mdecode(ys, memory, tgt_mask)\n\u001b[1;32m     26\u001b[0m out \u001b[39m=\u001b[39m out\u001b[39m.\u001b[39mtranspose(\u001b[39m0\u001b[39m, \u001b[39m1\u001b[39m)\n\u001b[1;32m     27\u001b[0m prob \u001b[39m=\u001b[39m model\u001b[39m.\u001b[39mgenerator(out[:, \u001b[39m-\u001b[39m\u001b[39m1\u001b[39m])\n",
      "File \u001b[0;32m/scratch/tb2817/1011_project/seq2seq_transformer.py:85\u001b[0m, in \u001b[0;36mSeq2SeqTransformer.decode\u001b[0;34m(self, tgt, memory, tgt_mask)\u001b[0m\n\u001b[1;32m     82\u001b[0m embedding \u001b[39m=\u001b[39m \u001b[39mself\u001b[39m\u001b[39m.\u001b[39mpositional_encoding(\n\u001b[1;32m     83\u001b[0m                   \u001b[39mself\u001b[39m\u001b[39m.\u001b[39mtgt_tok_emb(tgt))\n\u001b[1;32m     84\u001b[0m \u001b[39mprint\u001b[39m(\u001b[39mf\u001b[39m\u001b[39m'\u001b[39m\u001b[39membedding \u001b[39m\u001b[39m{\u001b[39;00membedding\u001b[39m.\u001b[39mshape\u001b[39m}\u001b[39;00m\u001b[39m'\u001b[39m)\n\u001b[0;32m---> 85\u001b[0m \u001b[39mreturn\u001b[39;00m \u001b[39mself\u001b[39;49m\u001b[39m.\u001b[39;49mtransformer\u001b[39m.\u001b[39;49mdecoder(embedding, memory,\n\u001b[1;32m     86\u001b[0m                   tgt_mask)\n",
      "File \u001b[0;32m/ext3/conda/1011_project/lib/python3.8/site-packages/torch/nn/modules/module.py:1186\u001b[0m, in \u001b[0;36mModule._call_impl\u001b[0;34m(self, *input, **kwargs)\u001b[0m\n\u001b[1;32m   1182\u001b[0m \u001b[39m# If we don't have any hooks, we want to skip the rest of the logic in\u001b[39;00m\n\u001b[1;32m   1183\u001b[0m \u001b[39m# this function, and just call forward.\u001b[39;00m\n\u001b[1;32m   1184\u001b[0m \u001b[39mif\u001b[39;00m \u001b[39mnot\u001b[39;00m (\u001b[39mself\u001b[39m\u001b[39m.\u001b[39m_backward_hooks \u001b[39mor\u001b[39;00m \u001b[39mself\u001b[39m\u001b[39m.\u001b[39m_forward_hooks \u001b[39mor\u001b[39;00m \u001b[39mself\u001b[39m\u001b[39m.\u001b[39m_forward_pre_hooks \u001b[39mor\u001b[39;00m _global_backward_hooks\n\u001b[1;32m   1185\u001b[0m         \u001b[39mor\u001b[39;00m _global_forward_hooks \u001b[39mor\u001b[39;00m _global_forward_pre_hooks):\n\u001b[0;32m-> 1186\u001b[0m     \u001b[39mreturn\u001b[39;00m forward_call(\u001b[39m*\u001b[39;49m\u001b[39minput\u001b[39;49m, \u001b[39m*\u001b[39;49m\u001b[39m*\u001b[39;49mkwargs)\n\u001b[1;32m   1187\u001b[0m \u001b[39m# Do not call functions when jit is used\u001b[39;00m\n\u001b[1;32m   1188\u001b[0m full_backward_hooks, non_full_backward_hooks \u001b[39m=\u001b[39m [], []\n",
      "File \u001b[0;32m/ext3/conda/1011_project/lib/python3.8/site-packages/torch/nn/modules/transformer.py:293\u001b[0m, in \u001b[0;36mTransformerDecoder.forward\u001b[0;34m(self, tgt, memory, tgt_mask, memory_mask, tgt_key_padding_mask, memory_key_padding_mask)\u001b[0m\n\u001b[1;32m    290\u001b[0m output \u001b[39m=\u001b[39m tgt\n\u001b[1;32m    292\u001b[0m \u001b[39mfor\u001b[39;00m mod \u001b[39min\u001b[39;00m \u001b[39mself\u001b[39m\u001b[39m.\u001b[39mlayers:\n\u001b[0;32m--> 293\u001b[0m     output \u001b[39m=\u001b[39m mod(output, memory, tgt_mask\u001b[39m=\u001b[39;49mtgt_mask,\n\u001b[1;32m    294\u001b[0m                  memory_mask\u001b[39m=\u001b[39;49mmemory_mask,\n\u001b[1;32m    295\u001b[0m                  tgt_key_padding_mask\u001b[39m=\u001b[39;49mtgt_key_padding_mask,\n\u001b[1;32m    296\u001b[0m                  memory_key_padding_mask\u001b[39m=\u001b[39;49mmemory_key_padding_mask)\n\u001b[1;32m    298\u001b[0m \u001b[39mif\u001b[39;00m \u001b[39mself\u001b[39m\u001b[39m.\u001b[39mnorm \u001b[39mis\u001b[39;00m \u001b[39mnot\u001b[39;00m \u001b[39mNone\u001b[39;00m:\n\u001b[1;32m    299\u001b[0m     output \u001b[39m=\u001b[39m \u001b[39mself\u001b[39m\u001b[39m.\u001b[39mnorm(output)\n",
      "File \u001b[0;32m/ext3/conda/1011_project/lib/python3.8/site-packages/torch/nn/modules/module.py:1186\u001b[0m, in \u001b[0;36mModule._call_impl\u001b[0;34m(self, *input, **kwargs)\u001b[0m\n\u001b[1;32m   1182\u001b[0m \u001b[39m# If we don't have any hooks, we want to skip the rest of the logic in\u001b[39;00m\n\u001b[1;32m   1183\u001b[0m \u001b[39m# this function, and just call forward.\u001b[39;00m\n\u001b[1;32m   1184\u001b[0m \u001b[39mif\u001b[39;00m \u001b[39mnot\u001b[39;00m (\u001b[39mself\u001b[39m\u001b[39m.\u001b[39m_backward_hooks \u001b[39mor\u001b[39;00m \u001b[39mself\u001b[39m\u001b[39m.\u001b[39m_forward_hooks \u001b[39mor\u001b[39;00m \u001b[39mself\u001b[39m\u001b[39m.\u001b[39m_forward_pre_hooks \u001b[39mor\u001b[39;00m _global_backward_hooks\n\u001b[1;32m   1185\u001b[0m         \u001b[39mor\u001b[39;00m _global_forward_hooks \u001b[39mor\u001b[39;00m _global_forward_pre_hooks):\n\u001b[0;32m-> 1186\u001b[0m     \u001b[39mreturn\u001b[39;00m forward_call(\u001b[39m*\u001b[39;49m\u001b[39minput\u001b[39;49m, \u001b[39m*\u001b[39;49m\u001b[39m*\u001b[39;49mkwargs)\n\u001b[1;32m   1187\u001b[0m \u001b[39m# Do not call functions when jit is used\u001b[39;00m\n\u001b[1;32m   1188\u001b[0m full_backward_hooks, non_full_backward_hooks \u001b[39m=\u001b[39m [], []\n",
      "File \u001b[0;32m/ext3/conda/1011_project/lib/python3.8/site-packages/torch/nn/modules/transformer.py:579\u001b[0m, in \u001b[0;36mTransformerDecoderLayer.forward\u001b[0;34m(self, tgt, memory, tgt_mask, memory_mask, tgt_key_padding_mask, memory_key_padding_mask)\u001b[0m\n\u001b[1;32m    577\u001b[0m \u001b[39melse\u001b[39;00m:\n\u001b[1;32m    578\u001b[0m     x \u001b[39m=\u001b[39m \u001b[39mself\u001b[39m\u001b[39m.\u001b[39mnorm1(x \u001b[39m+\u001b[39m \u001b[39mself\u001b[39m\u001b[39m.\u001b[39m_sa_block(x, tgt_mask, tgt_key_padding_mask))\n\u001b[0;32m--> 579\u001b[0m     x \u001b[39m=\u001b[39m \u001b[39mself\u001b[39m\u001b[39m.\u001b[39mnorm2(x \u001b[39m+\u001b[39m \u001b[39mself\u001b[39;49m\u001b[39m.\u001b[39;49m_mha_block(x, memory, memory_mask, memory_key_padding_mask))\n\u001b[1;32m    580\u001b[0m     x \u001b[39m=\u001b[39m \u001b[39mself\u001b[39m\u001b[39m.\u001b[39mnorm3(x \u001b[39m+\u001b[39m \u001b[39mself\u001b[39m\u001b[39m.\u001b[39m_ff_block(x))\n\u001b[1;32m    582\u001b[0m \u001b[39mreturn\u001b[39;00m x\n",
      "File \u001b[0;32m/ext3/conda/1011_project/lib/python3.8/site-packages/torch/nn/modules/transformer.py:596\u001b[0m, in \u001b[0;36mTransformerDecoderLayer._mha_block\u001b[0;34m(self, x, mem, attn_mask, key_padding_mask)\u001b[0m\n\u001b[1;32m    594\u001b[0m \u001b[39mdef\u001b[39;00m \u001b[39m_mha_block\u001b[39m(\u001b[39mself\u001b[39m, x: Tensor, mem: Tensor,\n\u001b[1;32m    595\u001b[0m                attn_mask: Optional[Tensor], key_padding_mask: Optional[Tensor]) \u001b[39m-\u001b[39m\u001b[39m>\u001b[39m Tensor:\n\u001b[0;32m--> 596\u001b[0m     x \u001b[39m=\u001b[39m \u001b[39mself\u001b[39;49m\u001b[39m.\u001b[39;49mmultihead_attn(x, mem, mem,\n\u001b[1;32m    597\u001b[0m                             attn_mask\u001b[39m=\u001b[39;49mattn_mask,\n\u001b[1;32m    598\u001b[0m                             key_padding_mask\u001b[39m=\u001b[39;49mkey_padding_mask,\n\u001b[1;32m    599\u001b[0m                             need_weights\u001b[39m=\u001b[39;49m\u001b[39mFalse\u001b[39;49;00m)[\u001b[39m0\u001b[39m]\n\u001b[1;32m    600\u001b[0m     \u001b[39mreturn\u001b[39;00m \u001b[39mself\u001b[39m\u001b[39m.\u001b[39mdropout2(x)\n",
      "File \u001b[0;32m/ext3/conda/1011_project/lib/python3.8/site-packages/torch/nn/modules/module.py:1186\u001b[0m, in \u001b[0;36mModule._call_impl\u001b[0;34m(self, *input, **kwargs)\u001b[0m\n\u001b[1;32m   1182\u001b[0m \u001b[39m# If we don't have any hooks, we want to skip the rest of the logic in\u001b[39;00m\n\u001b[1;32m   1183\u001b[0m \u001b[39m# this function, and just call forward.\u001b[39;00m\n\u001b[1;32m   1184\u001b[0m \u001b[39mif\u001b[39;00m \u001b[39mnot\u001b[39;00m (\u001b[39mself\u001b[39m\u001b[39m.\u001b[39m_backward_hooks \u001b[39mor\u001b[39;00m \u001b[39mself\u001b[39m\u001b[39m.\u001b[39m_forward_hooks \u001b[39mor\u001b[39;00m \u001b[39mself\u001b[39m\u001b[39m.\u001b[39m_forward_pre_hooks \u001b[39mor\u001b[39;00m _global_backward_hooks\n\u001b[1;32m   1185\u001b[0m         \u001b[39mor\u001b[39;00m _global_forward_hooks \u001b[39mor\u001b[39;00m _global_forward_pre_hooks):\n\u001b[0;32m-> 1186\u001b[0m     \u001b[39mreturn\u001b[39;00m forward_call(\u001b[39m*\u001b[39;49m\u001b[39minput\u001b[39;49m, \u001b[39m*\u001b[39;49m\u001b[39m*\u001b[39;49mkwargs)\n\u001b[1;32m   1187\u001b[0m \u001b[39m# Do not call functions when jit is used\u001b[39;00m\n\u001b[1;32m   1188\u001b[0m full_backward_hooks, non_full_backward_hooks \u001b[39m=\u001b[39m [], []\n",
      "File \u001b[0;32m/ext3/conda/1011_project/lib/python3.8/site-packages/torch/nn/modules/activation.py:1155\u001b[0m, in \u001b[0;36mMultiheadAttention.forward\u001b[0;34m(self, query, key, value, key_padding_mask, need_weights, attn_mask, average_attn_weights)\u001b[0m\n\u001b[1;32m   1144\u001b[0m     attn_output, attn_output_weights \u001b[39m=\u001b[39m F\u001b[39m.\u001b[39mmulti_head_attention_forward(\n\u001b[1;32m   1145\u001b[0m         query, key, value, \u001b[39mself\u001b[39m\u001b[39m.\u001b[39membed_dim, \u001b[39mself\u001b[39m\u001b[39m.\u001b[39mnum_heads,\n\u001b[1;32m   1146\u001b[0m         \u001b[39mself\u001b[39m\u001b[39m.\u001b[39min_proj_weight, \u001b[39mself\u001b[39m\u001b[39m.\u001b[39min_proj_bias,\n\u001b[0;32m   (...)\u001b[0m\n\u001b[1;32m   1152\u001b[0m         q_proj_weight\u001b[39m=\u001b[39m\u001b[39mself\u001b[39m\u001b[39m.\u001b[39mq_proj_weight, k_proj_weight\u001b[39m=\u001b[39m\u001b[39mself\u001b[39m\u001b[39m.\u001b[39mk_proj_weight,\n\u001b[1;32m   1153\u001b[0m         v_proj_weight\u001b[39m=\u001b[39m\u001b[39mself\u001b[39m\u001b[39m.\u001b[39mv_proj_weight, average_attn_weights\u001b[39m=\u001b[39maverage_attn_weights)\n\u001b[1;32m   1154\u001b[0m \u001b[39melse\u001b[39;00m:\n\u001b[0;32m-> 1155\u001b[0m     attn_output, attn_output_weights \u001b[39m=\u001b[39m F\u001b[39m.\u001b[39;49mmulti_head_attention_forward(\n\u001b[1;32m   1156\u001b[0m         query, key, value, \u001b[39mself\u001b[39;49m\u001b[39m.\u001b[39;49membed_dim, \u001b[39mself\u001b[39;49m\u001b[39m.\u001b[39;49mnum_heads,\n\u001b[1;32m   1157\u001b[0m         \u001b[39mself\u001b[39;49m\u001b[39m.\u001b[39;49min_proj_weight, \u001b[39mself\u001b[39;49m\u001b[39m.\u001b[39;49min_proj_bias,\n\u001b[1;32m   1158\u001b[0m         \u001b[39mself\u001b[39;49m\u001b[39m.\u001b[39;49mbias_k, \u001b[39mself\u001b[39;49m\u001b[39m.\u001b[39;49mbias_v, \u001b[39mself\u001b[39;49m\u001b[39m.\u001b[39;49madd_zero_attn,\n\u001b[1;32m   1159\u001b[0m         \u001b[39mself\u001b[39;49m\u001b[39m.\u001b[39;49mdropout, \u001b[39mself\u001b[39;49m\u001b[39m.\u001b[39;49mout_proj\u001b[39m.\u001b[39;49mweight, \u001b[39mself\u001b[39;49m\u001b[39m.\u001b[39;49mout_proj\u001b[39m.\u001b[39;49mbias,\n\u001b[1;32m   1160\u001b[0m         training\u001b[39m=\u001b[39;49m\u001b[39mself\u001b[39;49m\u001b[39m.\u001b[39;49mtraining,\n\u001b[1;32m   1161\u001b[0m         key_padding_mask\u001b[39m=\u001b[39;49mkey_padding_mask, need_weights\u001b[39m=\u001b[39;49mneed_weights,\n\u001b[1;32m   1162\u001b[0m         attn_mask\u001b[39m=\u001b[39;49mattn_mask, average_attn_weights\u001b[39m=\u001b[39;49maverage_attn_weights)\n\u001b[1;32m   1163\u001b[0m \u001b[39mif\u001b[39;00m \u001b[39mself\u001b[39m\u001b[39m.\u001b[39mbatch_first \u001b[39mand\u001b[39;00m is_batched:\n\u001b[1;32m   1164\u001b[0m     \u001b[39mreturn\u001b[39;00m attn_output\u001b[39m.\u001b[39mtranspose(\u001b[39m1\u001b[39m, \u001b[39m0\u001b[39m), attn_output_weights\n",
      "File \u001b[0;32m/ext3/conda/1011_project/lib/python3.8/site-packages/torch/nn/functional.py:5128\u001b[0m, in \u001b[0;36mmulti_head_attention_forward\u001b[0;34m(query, key, value, embed_dim_to_check, num_heads, in_proj_weight, in_proj_bias, bias_k, bias_v, add_zero_attn, dropout_p, out_proj_weight, out_proj_bias, training, key_padding_mask, need_weights, attn_mask, use_separate_proj_weight, q_proj_weight, k_proj_weight, v_proj_weight, static_k, static_v, average_attn_weights)\u001b[0m\n\u001b[1;32m   5126\u001b[0m q \u001b[39m=\u001b[39m q\u001b[39m.\u001b[39mcontiguous()\u001b[39m.\u001b[39mview(tgt_len, bsz \u001b[39m*\u001b[39m num_heads, head_dim)\u001b[39m.\u001b[39mtranspose(\u001b[39m0\u001b[39m, \u001b[39m1\u001b[39m)\n\u001b[1;32m   5127\u001b[0m \u001b[39mif\u001b[39;00m static_k \u001b[39mis\u001b[39;00m \u001b[39mNone\u001b[39;00m:\n\u001b[0;32m-> 5128\u001b[0m     k \u001b[39m=\u001b[39m k\u001b[39m.\u001b[39;49mcontiguous()\u001b[39m.\u001b[39;49mview(k\u001b[39m.\u001b[39;49mshape[\u001b[39m0\u001b[39;49m], bsz \u001b[39m*\u001b[39;49m num_heads, head_dim)\u001b[39m.\u001b[39mtranspose(\u001b[39m0\u001b[39m, \u001b[39m1\u001b[39m)\n\u001b[1;32m   5129\u001b[0m \u001b[39melse\u001b[39;00m:\n\u001b[1;32m   5130\u001b[0m     \u001b[39m# TODO finish disentangling control flow so we don't do in-projections when statics are passed\u001b[39;00m\n\u001b[1;32m   5131\u001b[0m     \u001b[39massert\u001b[39;00m static_k\u001b[39m.\u001b[39msize(\u001b[39m0\u001b[39m) \u001b[39m==\u001b[39m bsz \u001b[39m*\u001b[39m num_heads, \\\n\u001b[1;32m   5132\u001b[0m         \u001b[39mf\u001b[39m\u001b[39m\"\u001b[39m\u001b[39mexpecting static_k.size(0) of \u001b[39m\u001b[39m{\u001b[39;00mbsz \u001b[39m*\u001b[39m num_heads\u001b[39m}\u001b[39;00m\u001b[39m, but got \u001b[39m\u001b[39m{\u001b[39;00mstatic_k\u001b[39m.\u001b[39msize(\u001b[39m0\u001b[39m)\u001b[39m}\u001b[39;00m\u001b[39m\"\u001b[39m\n",
      "\u001b[0;31mRuntimeError\u001b[0m: shape '[26, 10, 30]' is invalid for input of size 202800"
     ]
    }
   ],
   "source": [
    "# run inference on the test set\n",
    "test_losses = []\n",
    "all_best_attn_labels = []\n",
    "all_preds_list = []\n",
    "all_labels_list = []\n",
    "raw_labels_list = []\n",
    "raw_source_list = []\n",
    "all_cleaned_preds_list = []\n",
    "all_bleu_1 = []\n",
    "all_bleu_2 = []\n",
    "all_bleu_3 = []\n",
    "all_bleu_4 = []\n",
    "all_meteor = []\n",
    "all_rouge_l = []\n",
    "with torch.no_grad():\n",
    "    for i, data in tqdm(enumerate(dataloaders['test']), leave=False):\n",
    "        # run evaluation on the test set\n",
    "        preds_list = []\n",
    "        labels_list = []\n",
    "        for j in range(len(data.source_vecs)):\n",
    "            pred = generate_question(seq2seq, data.source_data[j], vocab)\n",
    "            preds_list.append(pred)\n",
    "            labels_list.append(data.target_data[i])\n",
    "\n",
    "        # evaluate the predictions with the metrics\n",
    "        bleu_1, bleu_2, bleu_3, bleu_4, meteor, rouge_l = eval_metrics(preds_list, labels_list) # meteor, rouge_l\n",
    "        all_bleu_1.append(bleu_1)\n",
    "        all_bleu_2.append(bleu_2)\n",
    "        all_bleu_3.append(bleu_3)\n",
    "        all_bleu_4.append(bleu_4)\n",
    "        all_meteor.append(meteor)\n",
    "        all_rouge_l.append(rouge_l)\n",
    "\n",
    "        all_preds_list.append(preds_list)\n",
    "        all_labels_list.append(labels_list)\n",
    "        # all_cleaned_preds_list.append(cleaned_preds_list)\n",
    "        raw_labels_list.append(data.target_data)\n",
    "        raw_source_list.append(data.source_data)\n",
    "\n",
    "    avg_test_loss = np.mean(test_losses)\n",
    "    avg_bleu_1 = np.mean(all_bleu_1)\n",
    "    avg_bleu_2 = np.mean(all_bleu_2)\n",
    "    avg_bleu_3 = np.mean(all_bleu_3)\n",
    "    avg_bleu_4 = np.mean(all_bleu_4)\n",
    "    # avg_meteor = np.mean(all_meteor)\n",
    "    # avg_rouge_l = np.mean(all_rouge_l)\n",
    "\n",
    "    print(f'Average Test Loss = {avg_test_loss}')\n",
    "    print(f'Average BLEU_1 Score = {avg_bleu_1}')\n",
    "    print(f'Average BLEU_2 Score = {avg_bleu_2}')\n",
    "    print(f'Average BLEU_3 Score = {avg_bleu_3}')\n",
    "    print(f'Average BLEU_4 Score = {avg_bleu_4}')\n",
    "    # print(f'Average METEOR Score = {avg_meteor}')\n",
    "    # print(f'Average ROUGE_L Score = {avg_rouge_l}')"
   ]
  },
  {
   "cell_type": "code",
   "execution_count": null,
   "metadata": {},
   "outputs": [],
   "source": []
  },
  {
   "cell_type": "code",
   "execution_count": 16,
   "metadata": {},
   "outputs": [
    {
     "name": "stdout",
     "output_type": "stream",
     "text": [
      "Source (Answer) Sentence:\t in europe during the medieval period , guilds were formed by craftsmen to organise their trades and written contracts have survived , particularly in relation to ecclesiastical buildings .\n",
      "Target (Question) Label:\t what organizations were created by medieval craftsmen ?\n",
      "Target (Question) Raw Prediction:\t was did the the the ? ? <eos>\n",
      "\n",
      "Source (Answer) Sentence:\t a total of 120 torchbearers were selected to participate in the event consisting of celebrities , athletes and pro-beijing camp politicians .\n",
      "Target (Question) Label:\t the torchbearers included athletes , celebrities and who ?\n",
      "Target (Question) Raw Prediction:\t name of of of what what what was <eos>\n",
      "\n",
      "Source (Answer) Sentence:\t the collateralized debt obligation in particular enabled financial institutions to obtain investor funds to finance subprime and other lending , extending or increasing the housing bubble and generating large fees .\n",
      "Target (Question) Label:\t what is the name of the securities that enabled financial institutions to obtain investor funds to finance subprime ?\n",
      "Target (Question) Raw Prediction:\t is the name of the name of the of of of the to ? ? the ? ? <eos>\n",
      "\n",
      "Source (Answer) Sentence:\t in the first quarter of 2014 , the average weekly wage in new york county -lrb- manhattan -rrb- was $ 2,749 , representing the highest total among large counties in the united states .\n",
      "Target (Question) Label:\t what is the average weekly wage in manhattan ?\n",
      "Target (Question) Raw Prediction:\t was the name of of of the in <eos>\n",
      "\n",
      "Source (Answer) Sentence:\t in climates with significant heating loads , deciduous trees should not be planted on the equator facing side of a building because they will interfere with winter solar availability .\n",
      "Target (Question) Label:\t why should trees not be planted on the side of a building facing the equator ?\n",
      "Target (Question) Raw Prediction:\t is the is the the ? the <unk> of the the of ? <unk> ? <eos>\n",
      "\n"
     ]
    }
   ],
   "source": [
    "# print out a few postprocesse predictions\n",
    "for i in range(5):\n",
    "    print('Source (Answer) Sentence:\\t', \" \".join(raw_source_list[0][i]))\n",
    "    print('Target (Question) Label:\\t', \" \".join(raw_labels_list[0][i]))\n",
    "    print('Target (Question) Raw Prediction:\\t', \" \".join(all_preds_list[0][i]))\n",
    "    # print('Target (Question) Postprocessed Prediction:', \" \".join(all_cleaned_preds_list[0][i]))\n",
    "    print('')"
   ]
  },
  {
   "cell_type": "code",
   "execution_count": 10,
   "metadata": {},
   "outputs": [],
   "source": [
    "# PLOT TRAIN AND VAL LOSS\n",
    "import matplotlib.pyplot as plt \n",
    "def plot_over_training(per_epoch_metrics, title_name, num_epochs):\n",
    "    t = np.arange(1, num_epochs+1)\n",
    "\n",
    "    fig, ax1 = plt.subplots()\n",
    "\n",
    "    colors = ['tab:blue', 'tab:red']\n",
    "    ax1.set_xlabel('epochs')\n",
    "    ax1.set_ylabel('loss')\n",
    "\n",
    "    for key, color in zip(per_epoch_metrics, colors):\n",
    "        label = f'{key}_loss'\n",
    "        ax1.plot(t, per_epoch_metrics[key], color=color, linewidth=1, label=label)\n",
    "\n",
    "    ax1.tick_params(axis='y')\n",
    "    ax1.legend(loc='upper right')\n",
    "\n",
    "    fig.tight_layout\n",
    "    plt.title(title_name)\n",
    "    plt.show()\n"
   ]
  },
  {
   "cell_type": "code",
   "execution_count": 11,
   "metadata": {},
   "outputs": [
    {
     "data": {
      "image/png": "[encoded data removed]",
      "text/plain": [
       "<Figure size 432x288 with 1 Axes>"
      ]
     },
     "metadata": {
      "needs_background": "light"
     },
     "output_type": "display_data"
    }
   ],
   "source": [
    "plot_over_training(plot_cache, 'Train and val loss over 15 epochs', 15)"
   ]
  }
 ],
 "metadata": {
  "kernelspec": {
   "display_name": "Python 3.8.13",
   "language": "python",
   "name": "python3"
  },
  "language_info": {
   "codemirror_mode": {
    "name": "ipython",
    "version": 3
   },
   "file_extension": ".py",
   "mimetype": "text/x-python",
   "name": "python",
   "nbconvert_exporter": "python",
   "pygments_lexer": "ipython3",
   "version": "3.8.13"
  },
  "orig_nbformat": 4,
  "vscode": {
   "interpreter": {
    "hash": "d10e99a7d3ce7799ff53fffb01ded82fc9320fdeabd270dd8a29b265097acaf7"
   }
  }
 },
 "nbformat": 4,
 "nbformat_minor": 2
}
