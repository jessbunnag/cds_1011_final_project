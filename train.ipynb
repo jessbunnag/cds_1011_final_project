{
 "cells": [
  {
   "cell_type": "code",
   "execution_count": 1,
   "metadata": {},
   "outputs": [
    {
     "name": "stderr",
     "output_type": "stream",
     "text": [
      "/ext3/conda/1011_project/lib/python3.8/site-packages/tqdm/auto.py:22: TqdmWarning: IProgress not found. Please update jupyter and ipywidgets. See https://ipywidgets.readthedocs.io/en/stable/user_install.html\n",
      "  from .autonotebook import tqdm as notebook_tqdm\n"
     ]
    }
   ],
   "source": [
    "import torch\n",
    "from torch import optim\n",
    "import torch.nn as nn\n",
    "import torch.nn.functional as F\n",
    "\n",
    "from encoder import *\n",
    "from AttnDecoder import * \n",
    "from seq2seq import *\n",
    "\n",
    "from build_dataset import *"
   ]
  },
  {
   "cell_type": "markdown",
   "metadata": {},
   "source": []
  },
  {
   "cell_type": "code",
   "execution_count": 2,
   "metadata": {},
   "outputs": [],
   "source": [
    "# load data \n",
    "train_file_path = {\n",
    "    'source': f\"data/processed/src-train.txt\",\n",
    "    'target': f\"data/processed/tgt-train.txt\"\n",
    "}\n",
    "\n",
    "test_file_path = {\n",
    "    'source': f\"data/processed/src-test.txt\",\n",
    "    'target': f\"data/processed/tgt-test.txt\"\n",
    "}\n",
    "\n",
    "train_dataset = QAPair(train_file_path)\n",
    "test_dataset = QAPair(test_file_path)\n",
    "\n",
    "train_dataloader = DataLoader(\n",
    "            train_dataset, \n",
    "            batch_size=1024, \n",
    "            shuffle=True, \n",
    "            collate_fn=partial(pad_collate_fn, pad_token=train_dataset.pad_idx)\n",
    "        )\n",
    "\n",
    "test_dataloader = DataLoader(\n",
    "            test_dataset, \n",
    "            batch_size=1024, \n",
    "            shuffle=True, \n",
    "            collate_fn=partial(pad_collate_fn, pad_token=test_dataset.pad_idx)\n",
    "        )"
   ]
  },
  {
   "cell_type": "code",
   "execution_count": 3,
   "metadata": {},
   "outputs": [],
   "source": [
    "pretrained_vectors = {}\n",
    "pretrained_vectors['enc'] = torch.load('embeddings/encoder_emb.pt')\n",
    "pretrained_vectors['dec'] = torch.load('embeddings/decoder_emb.pt')\n",
    "\n",
    "input_size = len(train_dataset.answer_vocab)\n",
    "output_size = len(train_dataset.question_vocab)\n",
    "\n",
    "seq2seq = Seq2Seq(pretrained_vectors, output_size, input_size)"
   ]
  },
  {
   "cell_type": "code",
   "execution_count": null,
   "metadata": {},
   "outputs": [],
   "source": [
    "def train_step(batch, model, optimizer, criterion, device):\n",
    "    input, xs_len, target = batch.input_vecs.to(device), batch.input_lens.to(device), batch.target_vecs.to(device)\n",
    "\n",
    "    model.enc.train()\n",
    "    model.dec.train()\n",
    "\n",
    "    s2s_output, s2s_hidden = model(input, xs_len)\n",
    "\n",
    "    scores = s2s_output.view(-1, s2s_output.size(-1))\n",
    "    \n",
    "    optimizer.zero_grad()\n",
    "    loss = criterion(scores, target.view(-1))\n",
    "    loss.backward()\n",
    "    optimizer.step()\n",
    "\n",
    "    return loss.item()\n",
    "    "
   ]
  }
 ],
 "metadata": {
  "kernelspec": {
   "display_name": "Python 3.8.13",
   "language": "python",
   "name": "python3"
  },
  "language_info": {
   "codemirror_mode": {
    "name": "ipython",
    "version": 3
   },
   "file_extension": ".py",
   "mimetype": "text/x-python",
   "name": "python",
   "nbconvert_exporter": "python",
   "pygments_lexer": "ipython3",
   "version": "3.8.13"
  },
  "orig_nbformat": 4,
  "vscode": {
   "interpreter": {
    "hash": "d10e99a7d3ce7799ff53fffb01ded82fc9320fdeabd270dd8a29b265097acaf7"
   }
  }
 },
 "nbformat": 4,
 "nbformat_minor": 2
}
