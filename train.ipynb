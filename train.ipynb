{
 "cells": [
  {
   "cell_type": "code",
   "execution_count": 1,
   "metadata": {},
   "outputs": [
    {
     "name": "stderr",
     "output_type": "stream",
     "text": [
      "/ext3/conda/1011_project/lib/python3.8/site-packages/tqdm/auto.py:22: TqdmWarning: IProgress not found. Please update jupyter and ipywidgets. See https://ipywidgets.readthedocs.io/en/stable/user_install.html\n",
      "  from .autonotebook import tqdm as notebook_tqdm\n"
     ]
    }
   ],
   "source": [
    "import torch\n",
    "from torch import optim\n",
    "import torch.nn as nn\n",
    "import torch.nn.functional as F\n",
    "\n",
    "from encoder import *\n",
    "from AttnDecoder import * \n",
    "from seq2seq import *\n",
    "\n",
    "from build_dataset import *"
   ]
  },
  {
   "cell_type": "markdown",
   "metadata": {},
   "source": []
  },
  {
   "cell_type": "code",
   "execution_count": 2,
   "metadata": {},
   "outputs": [],
   "source": [
    "# load data \n",
    "train_file_path = {\n",
    "    'source': f\"data/processed/src-train.txt\",\n",
    "    'target': f\"data/processed/tgt-train.txt\"\n",
    "}\n",
    "\n",
    "test_file_path = {\n",
    "    'source': f\"data/processed/src-test.txt\",\n",
    "    'target': f\"data/processed/tgt-test.txt\"\n",
    "}\n",
    "\n",
    "train_dataset = QAPair(train_file_path)\n",
    "test_dataset = QAPair(test_file_path)\n",
    "\n",
    "train_dataloader = DataLoader(\n",
    "            train_dataset, \n",
    "            batch_size=128, \n",
    "            shuffle=True, \n",
    "            collate_fn=partial(pad_collate_fn, pad_token=train_dataset.pad_idx)\n",
    "        )\n",
    "\n",
    "test_dataloader = DataLoader(\n",
    "            test_dataset, \n",
    "            batch_size=128, \n",
    "            shuffle=True, \n",
    "            collate_fn=partial(pad_collate_fn, pad_token=test_dataset.pad_idx)\n",
    "        )"
   ]
  },
  {
   "cell_type": "code",
   "execution_count": 3,
   "metadata": {},
   "outputs": [],
   "source": [
    "pretrained_vectors = {}\n",
    "pretrained_vectors['enc'] = torch.load('embeddings/encoder_emb.pt')\n",
    "pretrained_vectors['dec'] = torch.load('embeddings/decoder_emb.pt')\n",
    "\n",
    "# input_size = len(train_dataset.answer_vocab)\n",
    "embed_size = 50  \n",
    "output_size = len(train_dataset.question_vocab) # is output size still vocab size of target? \n",
    "\n",
    "seq2seq = Seq2Seq(pretrained_vectors, output_size, embed_size)"
   ]
  },
  {
   "cell_type": "code",
   "execution_count": 4,
   "metadata": {},
   "outputs": [],
   "source": [
    "def train_step(batch, model, optimizer, criterion, device):\n",
    "    input, xs_len, target = batch.input_vecs.to(device), batch.input_lens.to(device), batch.target_vecs.to(device)\n",
    "\n",
    "    model.enc.train()\n",
    "    model.dec.train()\n",
    "\n",
    "    s2s_output, s2s_hidden = model(input, xs_len)\n",
    "\n",
    "    scores = s2s_output.view(-1, s2s_output.size(-1))\n",
    "    \n",
    "    optimizer.zero_grad()\n",
    "    loss = criterion(scores, target.view(-1))\n",
    "    loss.backward()\n",
    "    optimizer.step()\n",
    "\n",
    "    return loss.item()\n",
    "    "
   ]
  },
  {
   "cell_type": "code",
   "execution_count": 5,
   "metadata": {},
   "outputs": [
    {
     "name": "stderr",
     "output_type": "stream",
     "text": [
      "0it [00:00, ?it/s]/1 [00:00<?, ?it/s]\n",
      "  0%|          | 0/1 [00:00<?, ?it/s]\n"
     ]
    },
    {
     "name": "stdout",
     "output_type": "stream",
     "text": [
      "encoder_output shape in forward decoder torch.Size([128, 86, 1200])\n",
      "encoder_output type in forward decoder torch.cuda.FloatTensor\n",
      "encoder_output in forward decoder tensor([[[ 0.0020,  0.0207,  0.0013,  ...,  0.0067, -0.0546, -0.0065],\n",
      "         [ 0.0073,  0.0423,  0.0201,  ...,  0.0188, -0.0526, -0.0072],\n",
      "         [-0.0042,  0.0527,  0.0235,  ...,  0.0228, -0.0523, -0.0121],\n",
      "         ...,\n",
      "         [-0.0176,  0.0422,  0.0096,  ...,  0.0013, -0.0192, -0.0076],\n",
      "         [-0.0183,  0.0413,  0.0092,  ...,  0.0021, -0.0160, -0.0061],\n",
      "         [-0.0195,  0.0397,  0.0085,  ...,  0.0024, -0.0106, -0.0036]],\n",
      "\n",
      "        [[ 0.0016,  0.0205,  0.0006,  ...,  0.0200, -0.0536, -0.0010],\n",
      "         [ 0.0077,  0.0398,  0.0176,  ...,  0.0355, -0.0580,  0.0017],\n",
      "         [ 0.0070,  0.0458,  0.0191,  ...,  0.0307, -0.0581,  0.0020],\n",
      "         ...,\n",
      "         [-0.0176,  0.0422,  0.0096,  ...,  0.0013, -0.0192, -0.0076],\n",
      "         [-0.0183,  0.0413,  0.0092,  ...,  0.0021, -0.0160, -0.0061],\n",
      "         [-0.0195,  0.0397,  0.0085,  ...,  0.0024, -0.0106, -0.0036]],\n",
      "\n",
      "        [[ 0.0067,  0.0206,  0.0047,  ...,  0.0071, -0.0578,  0.0028],\n",
      "         [ 0.0180,  0.0379,  0.0241,  ...,  0.0173, -0.0567,  0.0015],\n",
      "         [ 0.0150,  0.0464,  0.0296,  ...,  0.0227, -0.0559,  0.0016],\n",
      "         ...,\n",
      "         [-0.0176,  0.0422,  0.0096,  ...,  0.0013, -0.0192, -0.0076],\n",
      "         [-0.0183,  0.0413,  0.0092,  ...,  0.0021, -0.0160, -0.0061],\n",
      "         [-0.0195,  0.0397,  0.0085,  ...,  0.0024, -0.0106, -0.0036]],\n",
      "\n",
      "        ...,\n",
      "\n",
      "        [[ 0.0005,  0.0212, -0.0008,  ...,  0.0133, -0.0509, -0.0106],\n",
      "         [ 0.0017,  0.0425,  0.0080,  ...,  0.0280, -0.0489, -0.0131],\n",
      "         [-0.0014,  0.0522,  0.0108,  ...,  0.0342, -0.0544, -0.0208],\n",
      "         ...,\n",
      "         [-0.0176,  0.0422,  0.0096,  ...,  0.0013, -0.0192, -0.0076],\n",
      "         [-0.0183,  0.0413,  0.0092,  ...,  0.0021, -0.0160, -0.0061],\n",
      "         [-0.0195,  0.0397,  0.0085,  ...,  0.0024, -0.0106, -0.0036]],\n",
      "\n",
      "        [[ 0.0022,  0.0195, -0.0023,  ...,  0.0100, -0.0545, -0.0111],\n",
      "         [ 0.0098,  0.0355,  0.0112,  ...,  0.0254, -0.0527, -0.0124],\n",
      "         [ 0.0028,  0.0442,  0.0174,  ...,  0.0330, -0.0512, -0.0071],\n",
      "         ...,\n",
      "         [-0.0176,  0.0422,  0.0096,  ...,  0.0013, -0.0192, -0.0076],\n",
      "         [-0.0183,  0.0413,  0.0092,  ...,  0.0021, -0.0160, -0.0061],\n",
      "         [-0.0195,  0.0397,  0.0085,  ...,  0.0024, -0.0106, -0.0036]],\n",
      "\n",
      "        [[ 0.0020,  0.0184,  0.0015,  ...,  0.0147, -0.0490, -0.0125],\n",
      "         [ 0.0062,  0.0369,  0.0174,  ...,  0.0303, -0.0502, -0.0190],\n",
      "         [-0.0064,  0.0419,  0.0170,  ...,  0.0322, -0.0497, -0.0231],\n",
      "         ...,\n",
      "         [-0.0176,  0.0422,  0.0096,  ...,  0.0013, -0.0192, -0.0076],\n",
      "         [-0.0183,  0.0413,  0.0092,  ...,  0.0021, -0.0160, -0.0061],\n",
      "         [-0.0195,  0.0397,  0.0085,  ...,  0.0024, -0.0106, -0.0036]]],\n",
      "       device='cuda:0', grad_fn=<CudnnRnnBackward0>)\n"
     ]
    },
    {
     "ename": "RuntimeError",
     "evalue": "Expected tensor for argument #1 'indices' to have one of the following scalar types: Long, Int; but got torch.cuda.FloatTensor instead (while checking arguments for embedding)",
     "output_type": "error",
     "traceback": [
      "\u001b[0;31m---------------------------------------------------------------------------\u001b[0m",
      "\u001b[0;31mRuntimeError\u001b[0m                              Traceback (most recent call last)",
      "\u001b[1;32m/scratch/tb2817/1011_project/train.ipynb Cell 6\u001b[0m in \u001b[0;36m<cell line: 11>\u001b[0;34m()\u001b[0m\n\u001b[1;32m     <a href='vscode-notebook-cell://ssh-remote%2Bgreenecomputecontainer/scratch/tb2817/1011_project/train.ipynb#W5sdnNjb2RlLXJlbW90ZQ%3D%3D?line=10'>11</a>\u001b[0m \u001b[39mfor\u001b[39;00m epoch \u001b[39min\u001b[39;00m tqdm(\u001b[39mrange\u001b[39m(\u001b[39m1\u001b[39m)):\n\u001b[1;32m     <a href='vscode-notebook-cell://ssh-remote%2Bgreenecomputecontainer/scratch/tb2817/1011_project/train.ipynb#W5sdnNjb2RlLXJlbW90ZQ%3D%3D?line=12'>13</a>\u001b[0m     \u001b[39mfor\u001b[39;00m i, data \u001b[39min\u001b[39;00m tqdm(\u001b[39menumerate\u001b[39m(train_dataloader)):\n\u001b[0;32m---> <a href='vscode-notebook-cell://ssh-remote%2Bgreenecomputecontainer/scratch/tb2817/1011_project/train.ipynb#W5sdnNjb2RlLXJlbW90ZQ%3D%3D?line=13'>14</a>\u001b[0m         curr_loss \u001b[39m=\u001b[39m train_step(data, seq2seq, optim, criterion, device)\n\u001b[1;32m     <a href='vscode-notebook-cell://ssh-remote%2Bgreenecomputecontainer/scratch/tb2817/1011_project/train.ipynb#W5sdnNjb2RlLXJlbW90ZQ%3D%3D?line=14'>15</a>\u001b[0m         \u001b[39mprint\u001b[39m(\u001b[39mf\u001b[39m\u001b[39m'\u001b[39m\u001b[39mepoch \u001b[39m\u001b[39m{\u001b[39;00mepoch\u001b[39m+\u001b[39m\u001b[39m1\u001b[39m\u001b[39m}\u001b[39;00m\u001b[39m, loss = \u001b[39m\u001b[39m{\u001b[39;00mcurr_loss\u001b[39m}\u001b[39;00m\u001b[39m'\u001b[39m)\n",
      "\u001b[1;32m/scratch/tb2817/1011_project/train.ipynb Cell 6\u001b[0m in \u001b[0;36mtrain_step\u001b[0;34m(batch, model, optimizer, criterion, device)\u001b[0m\n\u001b[1;32m      <a href='vscode-notebook-cell://ssh-remote%2Bgreenecomputecontainer/scratch/tb2817/1011_project/train.ipynb#W5sdnNjb2RlLXJlbW90ZQ%3D%3D?line=3'>4</a>\u001b[0m model\u001b[39m.\u001b[39menc\u001b[39m.\u001b[39mtrain()\n\u001b[1;32m      <a href='vscode-notebook-cell://ssh-remote%2Bgreenecomputecontainer/scratch/tb2817/1011_project/train.ipynb#W5sdnNjb2RlLXJlbW90ZQ%3D%3D?line=4'>5</a>\u001b[0m model\u001b[39m.\u001b[39mdec\u001b[39m.\u001b[39mtrain()\n\u001b[0;32m----> <a href='vscode-notebook-cell://ssh-remote%2Bgreenecomputecontainer/scratch/tb2817/1011_project/train.ipynb#W5sdnNjb2RlLXJlbW90ZQ%3D%3D?line=6'>7</a>\u001b[0m s2s_output, s2s_hidden \u001b[39m=\u001b[39m model(\u001b[39minput\u001b[39;49m, xs_len)\n\u001b[1;32m      <a href='vscode-notebook-cell://ssh-remote%2Bgreenecomputecontainer/scratch/tb2817/1011_project/train.ipynb#W5sdnNjb2RlLXJlbW90ZQ%3D%3D?line=8'>9</a>\u001b[0m scores \u001b[39m=\u001b[39m s2s_output\u001b[39m.\u001b[39mview(\u001b[39m-\u001b[39m\u001b[39m1\u001b[39m, s2s_output\u001b[39m.\u001b[39msize(\u001b[39m-\u001b[39m\u001b[39m1\u001b[39m))\n\u001b[1;32m     <a href='vscode-notebook-cell://ssh-remote%2Bgreenecomputecontainer/scratch/tb2817/1011_project/train.ipynb#W5sdnNjb2RlLXJlbW90ZQ%3D%3D?line=10'>11</a>\u001b[0m optimizer\u001b[39m.\u001b[39mzero_grad()\n",
      "File \u001b[0;32m/ext3/conda/1011_project/lib/python3.8/site-packages/torch/nn/modules/module.py:1186\u001b[0m, in \u001b[0;36mModule._call_impl\u001b[0;34m(self, *input, **kwargs)\u001b[0m\n\u001b[1;32m   1182\u001b[0m \u001b[39m# If we don't have any hooks, we want to skip the rest of the logic in\u001b[39;00m\n\u001b[1;32m   1183\u001b[0m \u001b[39m# this function, and just call forward.\u001b[39;00m\n\u001b[1;32m   1184\u001b[0m \u001b[39mif\u001b[39;00m \u001b[39mnot\u001b[39;00m (\u001b[39mself\u001b[39m\u001b[39m.\u001b[39m_backward_hooks \u001b[39mor\u001b[39;00m \u001b[39mself\u001b[39m\u001b[39m.\u001b[39m_forward_hooks \u001b[39mor\u001b[39;00m \u001b[39mself\u001b[39m\u001b[39m.\u001b[39m_forward_pre_hooks \u001b[39mor\u001b[39;00m _global_backward_hooks\n\u001b[1;32m   1185\u001b[0m         \u001b[39mor\u001b[39;00m _global_forward_hooks \u001b[39mor\u001b[39;00m _global_forward_pre_hooks):\n\u001b[0;32m-> 1186\u001b[0m     \u001b[39mreturn\u001b[39;00m forward_call(\u001b[39m*\u001b[39;49m\u001b[39minput\u001b[39;49m, \u001b[39m*\u001b[39;49m\u001b[39m*\u001b[39;49mkwargs)\n\u001b[1;32m   1187\u001b[0m \u001b[39m# Do not call functions when jit is used\u001b[39;00m\n\u001b[1;32m   1188\u001b[0m full_backward_hooks, non_full_backward_hooks \u001b[39m=\u001b[39m [], []\n",
      "File \u001b[0;32m/scratch/tb2817/1011_project/seq2seq.py:15\u001b[0m, in \u001b[0;36mSeq2Seq.forward\u001b[0;34m(self, answer, src_lens)\u001b[0m\n\u001b[1;32m     13\u001b[0m \u001b[39mdef\u001b[39;00m \u001b[39mforward\u001b[39m(\u001b[39mself\u001b[39m, answer, src_lens):    \n\u001b[1;32m     14\u001b[0m     enc_output, enc_hidden \u001b[39m=\u001b[39m \u001b[39mself\u001b[39m\u001b[39m.\u001b[39menc(answer)\n\u001b[0;32m---> 15\u001b[0m     decoder_output, decoder_hidden, _, _ \u001b[39m=\u001b[39m \u001b[39mself\u001b[39;49m\u001b[39m.\u001b[39;49mdec(enc_hidden, enc_output, src_lens, context_vec\u001b[39m=\u001b[39;49menc_output)\n\u001b[1;32m     17\u001b[0m     \u001b[39mreturn\u001b[39;00m decoder_output, decoder_hidden\n",
      "File \u001b[0;32m/ext3/conda/1011_project/lib/python3.8/site-packages/torch/nn/modules/module.py:1186\u001b[0m, in \u001b[0;36mModule._call_impl\u001b[0;34m(self, *input, **kwargs)\u001b[0m\n\u001b[1;32m   1182\u001b[0m \u001b[39m# If we don't have any hooks, we want to skip the rest of the logic in\u001b[39;00m\n\u001b[1;32m   1183\u001b[0m \u001b[39m# this function, and just call forward.\u001b[39;00m\n\u001b[1;32m   1184\u001b[0m \u001b[39mif\u001b[39;00m \u001b[39mnot\u001b[39;00m (\u001b[39mself\u001b[39m\u001b[39m.\u001b[39m_backward_hooks \u001b[39mor\u001b[39;00m \u001b[39mself\u001b[39m\u001b[39m.\u001b[39m_forward_hooks \u001b[39mor\u001b[39;00m \u001b[39mself\u001b[39m\u001b[39m.\u001b[39m_forward_pre_hooks \u001b[39mor\u001b[39;00m _global_backward_hooks\n\u001b[1;32m   1185\u001b[0m         \u001b[39mor\u001b[39;00m _global_forward_hooks \u001b[39mor\u001b[39;00m _global_forward_pre_hooks):\n\u001b[0;32m-> 1186\u001b[0m     \u001b[39mreturn\u001b[39;00m forward_call(\u001b[39m*\u001b[39;49m\u001b[39minput\u001b[39;49m, \u001b[39m*\u001b[39;49m\u001b[39m*\u001b[39;49mkwargs)\n\u001b[1;32m   1187\u001b[0m \u001b[39m# Do not call functions when jit is used\u001b[39;00m\n\u001b[1;32m   1188\u001b[0m full_backward_hooks, non_full_backward_hooks \u001b[39m=\u001b[39m [], []\n",
      "File \u001b[0;32m/scratch/tb2817/1011_project/AttnDecoder.py:67\u001b[0m, in \u001b[0;36mAttnDecoder.forward\u001b[0;34m(self, memory, encoder_output, xs_len, context_vec)\u001b[0m\n\u001b[1;32m     65\u001b[0m \u001b[39mprint\u001b[39m(\u001b[39mf\u001b[39m\u001b[39m'\u001b[39m\u001b[39mencoder_output type in forward decoder \u001b[39m\u001b[39m{\u001b[39;00mencoder_output\u001b[39m.\u001b[39mtype()\u001b[39m}\u001b[39;00m\u001b[39m'\u001b[39m)\n\u001b[1;32m     66\u001b[0m \u001b[39mprint\u001b[39m(\u001b[39mf\u001b[39m\u001b[39m'\u001b[39m\u001b[39mencoder_output in forward decoder \u001b[39m\u001b[39m{\u001b[39;00mencoder_output\u001b[39m}\u001b[39;00m\u001b[39m'\u001b[39m)\n\u001b[0;32m---> 67\u001b[0m emb \u001b[39m=\u001b[39m \u001b[39mself\u001b[39;49m\u001b[39m.\u001b[39;49membedding(encoder_output)\n\u001b[1;32m     68\u001b[0m \u001b[39mprint\u001b[39m(\u001b[39mf\u001b[39m\u001b[39m'\u001b[39m\u001b[39membeded in forward decoder \u001b[39m\u001b[39m{\u001b[39;00memb\u001b[39m}\u001b[39;00m\u001b[39m'\u001b[39m)\n\u001b[1;32m     69\u001b[0m emb \u001b[39m=\u001b[39m F\u001b[39m.\u001b[39mrelu(emb) \n",
      "File \u001b[0;32m/ext3/conda/1011_project/lib/python3.8/site-packages/torch/nn/modules/module.py:1186\u001b[0m, in \u001b[0;36mModule._call_impl\u001b[0;34m(self, *input, **kwargs)\u001b[0m\n\u001b[1;32m   1182\u001b[0m \u001b[39m# If we don't have any hooks, we want to skip the rest of the logic in\u001b[39;00m\n\u001b[1;32m   1183\u001b[0m \u001b[39m# this function, and just call forward.\u001b[39;00m\n\u001b[1;32m   1184\u001b[0m \u001b[39mif\u001b[39;00m \u001b[39mnot\u001b[39;00m (\u001b[39mself\u001b[39m\u001b[39m.\u001b[39m_backward_hooks \u001b[39mor\u001b[39;00m \u001b[39mself\u001b[39m\u001b[39m.\u001b[39m_forward_hooks \u001b[39mor\u001b[39;00m \u001b[39mself\u001b[39m\u001b[39m.\u001b[39m_forward_pre_hooks \u001b[39mor\u001b[39;00m _global_backward_hooks\n\u001b[1;32m   1185\u001b[0m         \u001b[39mor\u001b[39;00m _global_forward_hooks \u001b[39mor\u001b[39;00m _global_forward_pre_hooks):\n\u001b[0;32m-> 1186\u001b[0m     \u001b[39mreturn\u001b[39;00m forward_call(\u001b[39m*\u001b[39;49m\u001b[39minput\u001b[39;49m, \u001b[39m*\u001b[39;49m\u001b[39m*\u001b[39;49mkwargs)\n\u001b[1;32m   1187\u001b[0m \u001b[39m# Do not call functions when jit is used\u001b[39;00m\n\u001b[1;32m   1188\u001b[0m full_backward_hooks, non_full_backward_hooks \u001b[39m=\u001b[39m [], []\n",
      "File \u001b[0;32m/ext3/conda/1011_project/lib/python3.8/site-packages/torch/nn/modules/sparse.py:159\u001b[0m, in \u001b[0;36mEmbedding.forward\u001b[0;34m(self, input)\u001b[0m\n\u001b[1;32m    158\u001b[0m \u001b[39mdef\u001b[39;00m \u001b[39mforward\u001b[39m(\u001b[39mself\u001b[39m, \u001b[39minput\u001b[39m: Tensor) \u001b[39m-\u001b[39m\u001b[39m>\u001b[39m Tensor:\n\u001b[0;32m--> 159\u001b[0m     \u001b[39mreturn\u001b[39;00m F\u001b[39m.\u001b[39;49membedding(\n\u001b[1;32m    160\u001b[0m         \u001b[39minput\u001b[39;49m, \u001b[39mself\u001b[39;49m\u001b[39m.\u001b[39;49mweight, \u001b[39mself\u001b[39;49m\u001b[39m.\u001b[39;49mpadding_idx, \u001b[39mself\u001b[39;49m\u001b[39m.\u001b[39;49mmax_norm,\n\u001b[1;32m    161\u001b[0m         \u001b[39mself\u001b[39;49m\u001b[39m.\u001b[39;49mnorm_type, \u001b[39mself\u001b[39;49m\u001b[39m.\u001b[39;49mscale_grad_by_freq, \u001b[39mself\u001b[39;49m\u001b[39m.\u001b[39;49msparse)\n",
      "File \u001b[0;32m/ext3/conda/1011_project/lib/python3.8/site-packages/torch/nn/functional.py:2205\u001b[0m, in \u001b[0;36membedding\u001b[0;34m(input, weight, padding_idx, max_norm, norm_type, scale_grad_by_freq, sparse)\u001b[0m\n\u001b[1;32m   2199\u001b[0m     \u001b[39m# Note [embedding_renorm set_grad_enabled]\u001b[39;00m\n\u001b[1;32m   2200\u001b[0m     \u001b[39m# XXX: equivalent to\u001b[39;00m\n\u001b[1;32m   2201\u001b[0m     \u001b[39m# with torch.no_grad():\u001b[39;00m\n\u001b[1;32m   2202\u001b[0m     \u001b[39m#   torch.embedding_renorm_\u001b[39;00m\n\u001b[1;32m   2203\u001b[0m     \u001b[39m# remove once script supports set_grad_enabled\u001b[39;00m\n\u001b[1;32m   2204\u001b[0m     _no_grad_embedding_renorm_(weight, \u001b[39minput\u001b[39m, max_norm, norm_type)\n\u001b[0;32m-> 2205\u001b[0m \u001b[39mreturn\u001b[39;00m torch\u001b[39m.\u001b[39;49membedding(weight, \u001b[39minput\u001b[39;49m, padding_idx, scale_grad_by_freq, sparse)\n",
      "\u001b[0;31mRuntimeError\u001b[0m: Expected tensor for argument #1 'indices' to have one of the following scalar types: Long, Int; but got torch.cuda.FloatTensor instead (while checking arguments for embedding)"
     ]
    }
   ],
   "source": [
    "from tqdm import tqdm \n",
    "# TRAIN LOOP \n",
    "\n",
    "seq2seq = Seq2Seq(pretrained_vectors, output_size, embed_size)\n",
    "optim = torch.optim.SGD(seq2seq.parameters(), lr=0.1)\n",
    "criterion = nn.NLLLoss()\n",
    "device = \"cuda\" if torch.cuda.is_available() else \"cpu\"\n",
    "\n",
    "seq2seq.to(device) \n",
    "\n",
    "for epoch in tqdm(range(1)):\n",
    "\n",
    "    for i, data in tqdm(enumerate(train_dataloader)):\n",
    "        curr_loss = train_step(data, seq2seq, optim, criterion, device)\n",
    "        print(f'epoch {epoch+1}, loss = {curr_loss}')\n",
    "# MOMENT OF TRUTH???\n",
    "# ARE YALL READY \n",
    "# so the embedding part is correct ok that was my b i didn't know what input size was  "
   ]
  },
  {
   "cell_type": "code",
   "execution_count": null,
   "metadata": {},
   "outputs": [],
   "source": []
  }
 ],
 "metadata": {
  "kernelspec": {
   "display_name": "Python 3.8.13",
   "language": "python",
   "name": "python3"
  },
  "language_info": {
   "codemirror_mode": {
    "name": "ipython",
    "version": 3
   },
   "file_extension": ".py",
   "mimetype": "text/x-python",
   "name": "python",
   "nbconvert_exporter": "python",
   "pygments_lexer": "ipython3",
   "version": "3.8.13"
  },
  "orig_nbformat": 4,
  "vscode": {
   "interpreter": {
    "hash": "d10e99a7d3ce7799ff53fffb01ded82fc9320fdeabd270dd8a29b265097acaf7"
   }
  }
 },
 "nbformat": 4,
 "nbformat_minor": 2
}
