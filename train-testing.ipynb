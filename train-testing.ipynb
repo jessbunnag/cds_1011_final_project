{
 "cells": [
  {
   "cell_type": "code",
   "execution_count": 36,
   "metadata": {},
   "outputs": [],
   "source": [
    "import torch\n",
    "import torch.nn as nn\n",
    "import torch.nn.functional as F\n",
    "from torch.optim.lr_scheduler import StepLR\n",
    "\n",
    "from encoder import *\n",
    "from AttnDecoder import * \n",
    "from seq2seq import *\n",
    "\n",
    "from build_dataset import *\n",
    "from inference import *\n",
    "from tqdm import tqdm"
   ]
  },
  {
   "cell_type": "code",
   "execution_count": 5,
   "metadata": {},
   "outputs": [],
   "source": [
    "# Test example:\n",
    "hypothesis1 = ['It', 'is', 'a', 'guide', 'to', 'action', 'which',\n",
    "               'ensures', 'that', 'the', 'military', 'always',\n",
    "               'obeys', 'the', 'commands', 'of', 'the', 'party']\n",
    "hypothesis2 = ['he', 'read', 'the', 'book', 'because', 'he', 'was', 'interested', 'in', 'world', 'history']\n",
    "hypotheses = [hypothesis1, hypothesis2]               \n",
    "\n",
    "reference1 = ['It', 'is', 'a', 'guide', 'to', 'action', 'that',\n",
    "               'ensures', 'that', 'the', 'military', 'will', 'forever',\n",
    "               'heed', 'Party', 'commands']                  \n",
    "reference2 = ['It', 'is', 'the', 'guiding', 'principle', 'which',\n",
    "               'guarantees', 'the', 'military', 'forces', 'always',\n",
    "               'being', 'under', 'the', 'command', 'of', 'the',\n",
    "               'Party']               \n",
    "reference3 = ['It', 'is', 'the', 'practical', 'guide', 'for', 'the',\n",
    "               'army', 'always', 'to', 'heed', 'the', 'directions',\n",
    "               'of', 'the', 'party']              \n",
    "ref2a = ['he', 'was', 'interested', 'in', 'world', 'history', 'because', 'he', 'read', 'the', 'book']                \n",
    "references = [[reference1, reference2, reference3], [ref2a]]"
   ]
  },
  {
   "cell_type": "code",
   "execution_count": 12,
   "metadata": {},
   "outputs": [
    {
     "data": {
      "text/plain": [
       "0.41180376356915777"
      ]
     },
     "execution_count": 12,
     "metadata": {},
     "output_type": "execute_result"
    }
   ],
   "source": [
    "sentence_bleu([reference1], hypothesis1)"
   ]
  },
  {
   "cell_type": "code",
   "execution_count": 6,
   "metadata": {},
   "outputs": [],
   "source": [
    "preds_list = [['My', 'full', 'pytorch', 'test'], ['Another', 'Sentence'], ['This', 'is', 'another', 'sentence']]\n",
    "labels_list = [[['My', 'full', 'pytorch', 'test'], ['Completely', 'Different']], [['No', 'Match']], [['Another', 'Different', 'One']] ]"
   ]
  },
  {
   "cell_type": "code",
   "execution_count": 35,
   "metadata": {},
   "outputs": [
    {
     "name": "stdout",
     "output_type": "stream",
     "text": [
      "0.5 0.5 0.5 0.5\n"
     ]
    }
   ],
   "source": [
    "# NLTK - modified_precision\n",
    "# compute the BLEU score across all sentences for n in [1, 4]\n",
    "all_bleu_1 = []\n",
    "all_bleu_2 = []\n",
    "all_bleu_3 = []\n",
    "all_bleu_4 = []\n",
    "\n",
    "for idx in range(len(references)):\n",
    "    all_bleu_1.append(modified_precision(labels_list[idx], preds_list[idx], n=1))\n",
    "    all_bleu_2.append(modified_precision(labels_list[idx], preds_list[idx], n=2))\n",
    "    all_bleu_3.append(modified_precision(labels_list[idx], preds_list[idx], n=3))\n",
    "    all_bleu_4.append(modified_precision(labels_list[idx], preds_list[idx], n=4))\n",
    "\n",
    "print(float(np.mean(all_bleu_1)), float(np.mean(all_bleu_2)), float(np.mean(all_bleu_3)), float(np.mean(all_bleu_4)))\n",
    "# print(round(np.mean(all_bleu_1),4), round(np.mean(all_bleu_2),4), round(np.mean(all_bleu_3),4), round(np.mean(all_bleu_4),4))"
   ]
  },
  {
   "cell_type": "code",
   "execution_count": 8,
   "metadata": {},
   "outputs": [
    {
     "name": "stdout",
     "output_type": "stream",
     "text": [
      "0.9222222222222223 0.6274509803921569 0.46875 0.2761904761904762\n"
     ]
    }
   ],
   "source": [
    "# NLTK - modified_precision\n",
    "# compute the BLEU score across all sentences for n in [1, 4]\n",
    "all_bleu_1 = []\n",
    "all_bleu_2 = []\n",
    "all_bleu_3 = []\n",
    "all_bleu_4 = []\n",
    "\n",
    "for idx in range(len(references)):\n",
    "    all_bleu_1.append(modified_precision(references[idx], hypotheses[idx], n=(idx+1)))\n",
    "    all_bleu_2.append(modified_precision(references[idx], hypotheses[idx], n=(idx+2)))\n",
    "    all_bleu_3.append(modified_precision(references[idx], hypotheses[idx], n=(idx+3)))\n",
    "    all_bleu_4.append(modified_precision(references[idx], hypotheses[idx], n=(idx+4)))\n",
    "\n",
    "print(float(np.mean(all_bleu_1)), float(np.mean(all_bleu_2)), float(np.mean(all_bleu_3)), float(np.mean(all_bleu_4)))\n",
    "# print(round(np.mean(all_bleu_1),4), round(np.mean(all_bleu_2),4), round(np.mean(all_bleu_3),4), round(np.mean(all_bleu_4),4))"
   ]
  },
  {
   "cell_type": "code",
   "execution_count": 7,
   "metadata": {},
   "outputs": [
    {
     "name": "stdout",
     "output_type": "stream",
     "text": [
      "0.9722222222222222 0.8470196452752219 0.7337526821183125 0.6223247442490669\n"
     ]
    }
   ],
   "source": [
    "# NLTK - sentence_bleu:\n",
    "# compute the BLEU score across all sentences for n in [1, 4]\n",
    "all_bleu_1 = []\n",
    "all_bleu_2 = []\n",
    "all_bleu_3 = []\n",
    "all_bleu_4 = []\n",
    "\n",
    "weights1 = [1.0/1.0]\n",
    "weights2 = [1.0/2.0, 1.0/2.0]\n",
    "weights3 = [1.0/3.0, 1.0/3.0, 1.0/3.0]\n",
    "weights4 = [1.0/4.0, 1.0/4.0, 1.0/4.0, 1.0/4.0]\n",
    "\n",
    "for idx in range(len(references)):\n",
    "    all_bleu_1.append(sentence_bleu(references[idx], hypotheses[idx], weights1))\n",
    "    all_bleu_2.append(sentence_bleu(references[idx], hypotheses[idx], weights2))\n",
    "    all_bleu_3.append(sentence_bleu(references[idx], hypotheses[idx], weights3))\n",
    "    all_bleu_4.append(sentence_bleu(references[idx], hypotheses[idx], weights4))\n",
    "\n",
    "print(np.mean(all_bleu_1), np.mean(all_bleu_2), np.mean(all_bleu_3), np.mean(all_bleu_4))"
   ]
  },
  {
   "cell_type": "code",
   "execution_count": 22,
   "metadata": {},
   "outputs": [
    {
     "name": "stdout",
     "output_type": "stream",
     "text": [
      "0.8333334 0.0 0.0 0.0\n"
     ]
    }
   ],
   "source": [
    "# Torchmetrics - BLEUScore\n",
    "# compute the BLEU score across all sentences for n in [1, 4]\n",
    "from torchmetrics import BLEUScore\n",
    "\n",
    "all_bleu_1 = []\n",
    "all_bleu_2 = []\n",
    "all_bleu_3 = []\n",
    "all_bleu_4 = []\n",
    "\n",
    "metric1 = BLEUScore(n_gram=1)\n",
    "metric2 = BLEUScore(n_gram=2)\n",
    "metric3 = BLEUScore(n_gram=3)\n",
    "metric4 = BLEUScore(n_gram=4)\n",
    "for idx in range(len(references)):\n",
    "    all_bleu_1.append(metric1(hypotheses[idx], references[idx]))\n",
    "    all_bleu_2.append(metric2(hypotheses[idx], references[idx]))\n",
    "    all_bleu_3.append(metric3(hypotheses[idx], references[idx]))\n",
    "    all_bleu_4.append(metric4(hypotheses[idx], references[idx]))\n",
    "\n",
    "print(np.mean(all_bleu_1), np.mean(all_bleu_2), np.mean(all_bleu_3), np.mean(all_bleu_4))"
   ]
  },
  {
   "cell_type": "code",
   "execution_count": 27,
   "metadata": {},
   "outputs": [
    {
     "ename": "AssertionError",
     "evalue": "The length of candidate and reference corpus should be the same",
     "output_type": "error",
     "traceback": [
      "\u001b[0;31m---------------------------------------------------------------------------\u001b[0m",
      "\u001b[0;31mAssertionError\u001b[0m                            Traceback (most recent call last)",
      "\u001b[1;32m/Users/soominkim/NYU/F22/1011-NLP/cds_1011_final_project/train-testing.ipynb Cell 9\u001b[0m in \u001b[0;36m<cell line: 13>\u001b[0;34m()\u001b[0m\n\u001b[1;32m     <a href='vscode-notebook-cell:/Users/soominkim/NYU/F22/1011-NLP/cds_1011_final_project/train-testing.ipynb#X15sZmlsZQ%3D%3D?line=10'>11</a>\u001b[0m weights4 \u001b[39m=\u001b[39m [\u001b[39m1.0\u001b[39m\u001b[39m/\u001b[39m\u001b[39m4.0\u001b[39m, \u001b[39m1.0\u001b[39m\u001b[39m/\u001b[39m\u001b[39m4.0\u001b[39m, \u001b[39m1.0\u001b[39m\u001b[39m/\u001b[39m\u001b[39m4.0\u001b[39m, \u001b[39m1.0\u001b[39m\u001b[39m/\u001b[39m\u001b[39m4.0\u001b[39m]\n\u001b[1;32m     <a href='vscode-notebook-cell:/Users/soominkim/NYU/F22/1011-NLP/cds_1011_final_project/train-testing.ipynb#X15sZmlsZQ%3D%3D?line=12'>13</a>\u001b[0m \u001b[39mfor\u001b[39;00m idx \u001b[39min\u001b[39;00m \u001b[39mrange\u001b[39m(\u001b[39mlen\u001b[39m(labels_list)):\n\u001b[0;32m---> <a href='vscode-notebook-cell:/Users/soominkim/NYU/F22/1011-NLP/cds_1011_final_project/train-testing.ipynb#X15sZmlsZQ%3D%3D?line=13'>14</a>\u001b[0m     all_bleu_1\u001b[39m.\u001b[39mappend(bleu_score(preds_list[idx], labels_list[idx], max_n\u001b[39m=\u001b[39;49m\u001b[39m1\u001b[39;49m, weights\u001b[39m=\u001b[39;49mweights1))\n\u001b[1;32m     <a href='vscode-notebook-cell:/Users/soominkim/NYU/F22/1011-NLP/cds_1011_final_project/train-testing.ipynb#X15sZmlsZQ%3D%3D?line=14'>15</a>\u001b[0m     all_bleu_2\u001b[39m.\u001b[39mappend(bleu_score(preds_list[idx], labels_list[idx], max_n\u001b[39m=\u001b[39m\u001b[39m2\u001b[39m, weights\u001b[39m=\u001b[39mweights2))\n\u001b[1;32m     <a href='vscode-notebook-cell:/Users/soominkim/NYU/F22/1011-NLP/cds_1011_final_project/train-testing.ipynb#X15sZmlsZQ%3D%3D?line=15'>16</a>\u001b[0m     all_bleu_3\u001b[39m.\u001b[39mappend(bleu_score(preds_list[idx], labels_list[idx], max_n\u001b[39m=\u001b[39m\u001b[39m3\u001b[39m, weights\u001b[39m=\u001b[39mweights3))\n",
      "File \u001b[0;32m~/opt/anaconda3/envs/cds-nlp/lib/python3.8/site-packages/torchtext/data/metrics.py:56\u001b[0m, in \u001b[0;36mbleu_score\u001b[0;34m(candidate_corpus, references_corpus, max_n, weights)\u001b[0m\n\u001b[1;32m     35\u001b[0m \u001b[39m\"\"\"Computes the BLEU score between a candidate translation corpus and a references\u001b[39;00m\n\u001b[1;32m     36\u001b[0m \u001b[39mtranslation corpus. Based on https://www.aclweb.org/anthology/P02-1040.pdf\u001b[39;00m\n\u001b[1;32m     37\u001b[0m \n\u001b[0;32m   (...)\u001b[0m\n\u001b[1;32m     52\u001b[0m \u001b[39m        0.8408964276313782\u001b[39;00m\n\u001b[1;32m     53\u001b[0m \u001b[39m\"\"\"\u001b[39;00m\n\u001b[1;32m     55\u001b[0m \u001b[39massert\u001b[39;00m max_n \u001b[39m==\u001b[39m \u001b[39mlen\u001b[39m(weights), \u001b[39m'\u001b[39m\u001b[39mLength of the \u001b[39m\u001b[39m\"\u001b[39m\u001b[39mweights\u001b[39m\u001b[39m\"\u001b[39m\u001b[39m list has be equal to max_n\u001b[39m\u001b[39m'\u001b[39m\n\u001b[0;32m---> 56\u001b[0m \u001b[39massert\u001b[39;00m \u001b[39mlen\u001b[39m(candidate_corpus) \u001b[39m==\u001b[39m \u001b[39mlen\u001b[39m(\n\u001b[1;32m     57\u001b[0m     references_corpus\n\u001b[1;32m     58\u001b[0m ), \u001b[39m\"\u001b[39m\u001b[39mThe length of candidate and reference corpus should be the same\u001b[39m\u001b[39m\"\u001b[39m\n\u001b[1;32m     60\u001b[0m clipped_counts \u001b[39m=\u001b[39m torch\u001b[39m.\u001b[39mzeros(max_n)\n\u001b[1;32m     61\u001b[0m total_counts \u001b[39m=\u001b[39m torch\u001b[39m.\u001b[39mzeros(max_n)\n",
      "\u001b[0;31mAssertionError\u001b[0m: The length of candidate and reference corpus should be the same"
     ]
    }
   ],
   "source": [
    "from torchtext.data.metrics import bleu_score\n",
    "\n",
    "all_bleu_1 = []\n",
    "all_bleu_2 = []\n",
    "all_bleu_3 = []\n",
    "all_bleu_4 = []\n",
    "\n",
    "weights1 = [1.0/1.0]\n",
    "weights2 = [1.0/2.0, 1.0/2.0]\n",
    "weights3 = [1.0/3.0, 1.0/3.0, 1.0/3.0]\n",
    "weights4 = [1.0/4.0, 1.0/4.0, 1.0/4.0, 1.0/4.0]\n",
    "\n",
    "for idx in range(len(labels_list)):\n",
    "    all_bleu_1.append(bleu_score(preds_list[idx], labels_list[idx], max_n=1, weights=weights1))\n",
    "    all_bleu_2.append(bleu_score(preds_list[idx], labels_list[idx], max_n=2, weights=weights2))\n",
    "    all_bleu_3.append(bleu_score(preds_list[idx], labels_list[idx], max_n=3, weights=weights3))\n",
    "    all_bleu_4.append(bleu_score(preds_list[idx], labels_list[idx], max_n=4, weights=weights4))\n",
    "\n",
    "print(np.mean(all_bleu_1), np.mean(all_bleu_2), np.mean(all_bleu_3), np.mean(all_bleu_4))"
   ]
  },
  {
   "cell_type": "code",
   "execution_count": 31,
   "metadata": {},
   "outputs": [
    {
     "name": "stderr",
     "output_type": "stream",
     "text": [
      "[nltk_data] Downloading package wordnet to\n",
      "[nltk_data]     /Users/soominkim/nltk_data...\n",
      "[nltk_data]   Package wordnet is already up-to-date!\n",
      "[nltk_data] Downloading package omw-1.4 to\n",
      "[nltk_data]     /Users/soominkim/nltk_data...\n"
     ]
    },
    {
     "data": {
      "text/plain": [
       "True"
      ]
     },
     "execution_count": 31,
     "metadata": {},
     "output_type": "execute_result"
    }
   ],
   "source": [
    "import nltk\n",
    "nltk.download('wordnet')\n",
    "nltk.download('omw-1.4')"
   ]
  },
  {
   "cell_type": "code",
   "execution_count": 34,
   "metadata": {},
   "outputs": [
    {
     "name": "stdout",
     "output_type": "stream",
     "text": [
      "0.38449260752688175\n"
     ]
    }
   ],
   "source": [
    "# compute the METEOR score:\n",
    "all_meteor = []\n",
    "for idx in range(len(labels_list)):\n",
    "    all_meteor.append(meteor_score([labels_list[idx]], preds_list[idx]))\n",
    "\n",
    "print(np.mean(all_meteor))"
   ]
  },
  {
   "cell_type": "code",
   "execution_count": 65,
   "metadata": {},
   "outputs": [
    {
     "name": "stdout",
     "output_type": "stream",
     "text": [
      "0.33333334\n"
     ]
    }
   ],
   "source": [
    "from torchmetrics.text.rouge import ROUGEScore\n",
    "\n",
    "preds_list = [['My', 'full', 'pytorch', 'test'], ['Another', 'Sentence'], ['This', 'is', 'another', 'sentence']]\n",
    "labels_list = [['My', 'full', 'pytorch', 'test'], ['Completely', 'Different'], ['No', 'Match']]\n",
    "\n",
    "all_rougeL = []\n",
    "rouge = ROUGEScore(rouge_keys='rougeL')\n",
    "for idx in range(len(labels_list)):\n",
    "    all_rougeL.append(rouge(' '.join(preds_list[idx]), ' '.join(labels_list[idx])).get('rougeL_recall'))\n",
    "\n",
    "# return np.mean(all_rougeL)\n",
    "\n",
    "print(np.mean(all_rougeL))\n",
    "\n",
    "# preds = [\"My name is John\"]\n",
    "# target = [\"Is your name John\"]\n",
    "# rouge = ROUGEScore(rouge_keys='rougeL')\n",
    "# print(rouge(preds, target))"
   ]
  },
  {
   "cell_type": "code",
   "execution_count": null,
   "metadata": {},
   "outputs": [],
   "source": [
    "# how to plot attention scores (matrix that shows attention score mappping from words in target to source)"
   ]
  }
 ],
 "metadata": {
  "kernelspec": {
   "display_name": "Python 3.8.13 ('cds-nlp')",
   "language": "python",
   "name": "python3"
  },
  "language_info": {
   "codemirror_mode": {
    "name": "ipython",
    "version": 3
   },
   "file_extension": ".py",
   "mimetype": "text/x-python",
   "name": "python",
   "nbconvert_exporter": "python",
   "pygments_lexer": "ipython3",
   "version": "3.8.13"
  },
  "orig_nbformat": 4,
  "vscode": {
   "interpreter": {
    "hash": "3f0f61664e64e054731fd7a0d3b8fe7c49ba104fb8b8d2ab4ae527096366d455"
   }
  }
 },
 "nbformat": 4,
 "nbformat_minor": 2
}
