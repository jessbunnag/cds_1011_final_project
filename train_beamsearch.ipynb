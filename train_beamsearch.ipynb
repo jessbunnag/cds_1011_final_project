{
 "cells": [
  {
   "cell_type": "code",
   "execution_count": 1,
   "metadata": {},
   "outputs": [
    {
     "name": "stderr",
     "output_type": "stream",
     "text": [
      "/ext3/conda/1011_project/lib/python3.8/site-packages/tqdm/auto.py:22: TqdmWarning: IProgress not found. Please update jupyter and ipywidgets. See https://ipywidgets.readthedocs.io/en/stable/user_install.html\n",
      "  from .autonotebook import tqdm as notebook_tqdm\n",
      "[nltk_data] Downloading package wordnet to /home/tb2817/nltk_data...\n",
      "[nltk_data]   Package wordnet is already up-to-date!\n",
      "[nltk_data] Downloading package omw-1.4 to /home/tb2817/nltk_data...\n",
      "[nltk_data]   Package omw-1.4 is already up-to-date!\n"
     ]
    }
   ],
   "source": [
    "import torch \n",
    "import torch.nn as nn\n",
    "import torch.nn.functional as F\n",
    "from torch.optim.lr_scheduler import StepLR\n",
    "\n",
    "from encoder import *\n",
    "from AttnDecoder import * \n",
    "from seq2seq import *\n",
    "\n",
    "from build_dataset import *\n",
    "from inference import *\n",
    "from tqdm import tqdm\n",
    "\n",
    "from beamsearch import *"
   ]
  },
  {
   "cell_type": "markdown",
   "metadata": {},
   "source": [
    "# 1. Load dataloaders "
   ]
  },
  {
   "cell_type": "code",
   "execution_count": 2,
   "metadata": {},
   "outputs": [],
   "source": [
    "# set whether or not model is pretrained\n",
    "model_pretrained = True"
   ]
  },
  {
   "cell_type": "code",
   "execution_count": 3,
   "metadata": {},
   "outputs": [],
   "source": [
    "# load data \n",
    "main_data_path = \"data/processed\"\n",
    "\n",
    "train_file_path = {\n",
    "    'source': f\"{main_data_path}/src-train.txt\",\n",
    "    'target': f\"{main_data_path}/tgt-train.txt\"\n",
    "}\n",
    "\n",
    "test_file_path = {\n",
    "    'source': f\"{main_data_path}/src-test.txt\",\n",
    "    'target': f\"{main_data_path}/tgt-test.txt\"\n",
    "}\n",
    "\n",
    "dev_file_path = {\n",
    "    'source': f\"{main_data_path}/src-dev.txt\",\n",
    "    'target': f\"{main_data_path}/tgt-dev.txt\"\n",
    "}\n",
    "\n",
    "# build vocab with train data only \n",
    "vocab = build_train_vocab(train_file_path)\n",
    "\n",
    "# build datasets for all train, test, dev\n",
    "datasets = {\n",
    "    'train': QAPair(train_file_path, vocab),\n",
    "    'test': QAPair(test_file_path, vocab),\n",
    "    'dev': QAPair(dev_file_path, vocab),\n",
    "}\n",
    "\n",
    "# build dataloaders\n",
    "batch_size = 8\n",
    "dataloaders = {}\n",
    "for split, dataset in datasets.items():\n",
    "    dataloaders[split] = DataLoader(\n",
    "        dataset, \n",
    "        batch_size=batch_size, \n",
    "        shuffle=True, \n",
    "        collate_fn=partial(pad_collate_fn, pad_token=dataset.pad_idx)\n",
    "    )"
   ]
  },
  {
   "cell_type": "markdown",
   "metadata": {},
   "source": [
    "# 2. Load parsed GloVe embeddings"
   ]
  },
  {
   "cell_type": "code",
   "execution_count": 4,
   "metadata": {},
   "outputs": [],
   "source": [
    "embed_size = 300\n",
    "pretrained_vectors = {\n",
    "    'enc': torch.load(f'embeddings/encoder_emb_{embed_size}.pt').float(),\n",
    "    'dec': torch.load(f'embeddings/decoder_emb_{embed_size}.pt').float()\n",
    "}\n",
    "\n",
    "# input_size = len(train_dataset.answer_vocab) \n",
    "output_size = len(vocab['target'])"
   ]
  },
  {
   "cell_type": "markdown",
   "metadata": {},
   "source": [
    "# 3. Train loop"
   ]
  },
  {
   "cell_type": "markdown",
   "metadata": {},
   "source": [
    "## 3.1 Define train and eval steps"
   ]
  },
  {
   "cell_type": "code",
   "execution_count": 5,
   "metadata": {},
   "outputs": [],
   "source": [
    "def train_step(batch, model, optimizer, criterion, device):\n",
    "    input = batch.source_vecs.to(device) \n",
    "    inputs_len = batch.source_lens.to(device)\n",
    "    target = batch.target_vecs.to(device)\n",
    "    target_len = batch.target_lens.to(device) \n",
    "    target_input = target[:, :-1]\n",
    "    \n",
    "    model.train()\n",
    "\n",
    "    dec_log_probs, dec_hidden, attn_scores_mat = model(input, target_input, inputs_len, target_len)\n",
    "    \n",
    "    optimizer.zero_grad()\n",
    "    target_out = target[:, 1:]\n",
    "    loss = criterion(dec_log_probs.transpose(1, 2), target_out)\n",
    "    loss.backward()\n",
    "    # clip gradients\n",
    "    nn.utils.clip_grad_norm_(model.parameters(), max_norm=5.0, norm_type=2)\n",
    "    \n",
    "    optimizer.step()\n",
    "\n",
    "    # return the attention scores at the last time step\n",
    "    return loss.item(), dec_log_probs, attn_scores_mat\n",
    "\n",
    "def eval_step(batch, model, criterion, device):\n",
    "    input = batch.source_vecs.to(device) \n",
    "    inputs_len = batch.source_lens.to(device)\n",
    "    target = batch.target_vecs.to(device)\n",
    "    target_len = batch.target_lens.to(device) \n",
    "    target_input = target[:, :-1]\n",
    "    \n",
    "    model.eval()\n",
    "\n",
    "    dec_log_probs, dec_hidden, attn_scores_mat = model(input, target_input, inputs_len, target_len)\n",
    "\n",
    "    target_out = target[:, 1:]\n",
    "    loss = criterion(dec_log_probs.transpose(1, 2), target_out)\n",
    "\n",
    "    # return the attention scores at the last time step\n",
    "    return loss.item(), dec_log_probs, attn_scores_mat\n",
    "    "
   ]
  },
  {
   "cell_type": "markdown",
   "metadata": {},
   "source": [
    "## 3.2 Run train loop"
   ]
  },
  {
   "cell_type": "code",
   "execution_count": 6,
   "metadata": {},
   "outputs": [],
   "source": [
    "# TRAIN LOOP \n",
    "\n",
    "if not model_pretrained:\n",
    "    # initial learning rate\n",
    "    lr = 1.0\n",
    "    # initialize the model, optimizer, and criterion\n",
    "    seq2seq = Seq2Seq(pretrained_vectors, hidden_size=600, output_size=output_size)\n",
    "    optimizer = torch.optim.SGD(seq2seq.parameters(), lr=lr)\n",
    "    criterion = nn.NLLLoss(ignore_index=datasets['train'].pad_idx)\n",
    "    device = \"cuda\" if torch.cuda.is_available() else \"cpu\"\n",
    "\n",
    "    seq2seq.to(device)\n",
    "\n",
    "    plot_cache = {}\n",
    "    plot_cache['train'] = []\n",
    "    plot_cache['dev'] = []\n",
    "\n",
    "    # halve lr at epoch 8\n",
    "    scheduler = StepLR(optimizer, step_size=8, gamma=0.5) \n",
    "\n",
    "    NUM_EPOCHS = 15\n",
    "    for epoch in tqdm(range(NUM_EPOCHS)):    \n",
    "        # train \n",
    "        train_losses = []\n",
    "        for i, data in tqdm(enumerate(dataloaders['train']), leave=False):\n",
    "            curr_loss, dec_log_probs, attn_scores_mat = train_step(data, seq2seq, optimizer, criterion, device)\n",
    "\n",
    "            train_losses.append(curr_loss)\n",
    "\n",
    "        avg_train_loss = np.mean(train_losses)\n",
    "        print(f'Train loss after epoch {epoch+1} = {avg_train_loss}')\n",
    "\n",
    "        # eval \n",
    "        test_losses = []\n",
    "        with torch.no_grad():\n",
    "            for i, data in tqdm(enumerate(dataloaders['dev']), leave=False):\n",
    "                curr_loss, dec_log_probs, attn_scores_mat = eval_step(data, seq2seq, criterion, device)\n",
    "\n",
    "                test_losses.append(curr_loss)\n",
    "\n",
    "            avg_test_loss = np.mean(test_losses)\n",
    "            print(f'Test loss after epoch {epoch+1} = {avg_test_loss}')\n",
    "\n",
    "        plot_cache['train'].append(avg_train_loss)\n",
    "        plot_cache['dev'].append(avg_test_loss)\n",
    "\n",
    "        scheduler.step()\n",
    "\n",
    "    # save the model state\n",
    "    torch.save({'state_dict': seq2seq.state_dict(), 'plot_cache': plot_cache}, 'trained_seq2seq_statedict.pt')\n",
    "else:\n",
    "    # reload the model\n",
    "    seq2seq = Seq2Seq(pretrained_vectors, hidden_size=600, output_size=output_size)\n",
    "    criterion = nn.NLLLoss(ignore_index=datasets['train'].pad_idx)\n",
    "    device = \"cuda\" if torch.cuda.is_available() else \"cpu\"\n",
    "    seq2seq.to(device)\n",
    "\n",
    "    checkpoint = torch.load('trained_seq2seq_statedict.pt')\n",
    "    seq2seq.load_state_dict(checkpoint['state_dict'])\n",
    "    plot_cache = checkpoint['plot_cache']"
   ]
  },
  {
   "cell_type": "code",
   "execution_count": 7,
   "metadata": {},
   "outputs": [
    {
     "name": "stderr",
     "output_type": "stream",
     "text": [
      "                  "
     ]
    },
    {
     "name": "stdout",
     "output_type": "stream",
     "text": [
      "Average BLEU_1 Score = 0.2597066652600376\n",
      "Average BLEU_2 Score = 0.06765117696257344\n",
      "Average BLEU_3 Score = 0.031068279407918453\n",
      "Average BLEU_4 Score = 0.0\n",
      "Average METEOR Score = 0.25079828739243126\n",
      "Average ROUGE_L Score = 0.24216270446777344\n"
     ]
    },
    {
     "name": "stderr",
     "output_type": "stream",
     "text": [
      "\r"
     ]
    }
   ],
   "source": [
    "# run inference on the test set\n",
    "all_best_attn_labels = []\n",
    "all_preds_list = []\n",
    "all_labels_list = []\n",
    "raw_labels_list = []\n",
    "all_cleaned_preds_list = []\n",
    "all_bleu_1 = []\n",
    "all_bleu_2 = []\n",
    "all_bleu_3 = []\n",
    "all_bleu_4 = []\n",
    "all_meteor = []\n",
    "all_rouge_l = []\n",
    "all_attn_score_list = []\n",
    "with torch.no_grad():\n",
    "    for i, data in tqdm(enumerate(dataloaders['test']), leave=False):\n",
    "        # run beam search inference on the test set\n",
    "        preds_list, labels_list, attn_score_list = beam_search_batch(data, seq2seq, vocab['target'], device, beam_width=1)\n",
    "        all_attn_score_list.append(attn_score_list)\n",
    "        # create a matrix of the best attention score SRC token class \n",
    "        best_attn_labels_list = unk_postprocessing(data.source_vecs, attn_score_list)\n",
    "        # all_best_attn_labels.append(best_attn_labels)\n",
    "\n",
    "        # evaluate the predictions with the metrics\n",
    "        bleu_1, bleu_2, bleu_3, bleu_4, meteor, rouge_l = eval_metrics(preds_list, labels_list) # meteor, rouge_l\n",
    "        all_bleu_1.append(bleu_1)\n",
    "        all_bleu_2.append(bleu_2)\n",
    "        all_bleu_3.append(bleu_3)\n",
    "        all_bleu_4.append(bleu_4)\n",
    "        all_meteor.append(meteor)\n",
    "        all_rouge_l.append(rouge_l)\n",
    "\n",
    "                # clean the targets and the labels - remove the special tokens\n",
    "        # for targets, also replace all unk tokens with the SRC token with the highest attention\n",
    "        clean_preds_list = []\n",
    "        clean_labels_list = []\n",
    "        for batch_idx in range(len(labels_list)):\n",
    "            label = labels_list[batch_idx]\n",
    "            pred = preds_list[batch_idx]\n",
    "            clean_label = []\n",
    "            clean_pred = []\n",
    "            for token in label:\n",
    "                if token == '<bos>':\n",
    "                    pass\n",
    "                elif token == '<eos>':\n",
    "                    break\n",
    "                else:\n",
    "                    clean_label.append(token)\n",
    "            for token_idx, token in enumerate(pred):\n",
    "                if token == '<unk>':\n",
    "                    src_id = int(best_attn_labels_list[batch_idx][token_idx].item())\n",
    "                    src_token = vocab['source'].decode_idx2token([src_id])\n",
    "                    clean_pred.append('<' + src_token[0] + '>')\n",
    "                if token == '<bos>':\n",
    "                    pass\n",
    "                elif token == '<eos>':\n",
    "                    break\n",
    "                else:\n",
    "                    clean_pred.append(token)\n",
    "            clean_preds_list.append(clean_pred)\n",
    "            clean_labels_list.append(clean_label)\n",
    "\n",
    "            all_preds_list.append(preds_list[batch_idx])\n",
    "\n",
    "        # all_labels_list.append(labels_list)\n",
    "        # all_cleaned_preds_list.append(clean_preds_list)\n",
    "        # all_cleaned_labels_list.append(clean_labels_list)\n",
    "        # raw_labels_list.append(data.target_data)\n",
    "        break\n",
    "\n",
    "    avg_bleu_1 = np.mean(all_bleu_1)\n",
    "    avg_bleu_2 = np.mean(all_bleu_2)\n",
    "    avg_bleu_3 = np.mean(all_bleu_3)\n",
    "    avg_bleu_4 = np.mean(all_bleu_4)\n",
    "    avg_meteor = np.mean(all_meteor)\n",
    "    avg_rouge_l = np.mean(all_rouge_l)\n",
    "\n",
    "    print(f'Average BLEU_1 Score = {avg_bleu_1}')\n",
    "    print(f'Average BLEU_2 Score = {avg_bleu_2}')\n",
    "    print(f'Average BLEU_3 Score = {avg_bleu_3}')\n",
    "    print(f'Average BLEU_4 Score = {avg_bleu_4}')\n",
    "    print(f'Average METEOR Score = {avg_meteor}')\n",
    "    print(f'Average ROUGE_L Score = {avg_rouge_l}')"
   ]
  },
  {
   "cell_type": "code",
   "execution_count": 10,
   "metadata": {},
   "outputs": [
    {
     "data": {
      "text/plain": [
       "[]"
      ]
     },
     "execution_count": 10,
     "metadata": {},
     "output_type": "execute_result"
    }
   ],
   "source": [
    "raw_labels_list"
   ]
  },
  {
   "cell_type": "code",
   "execution_count": 14,
   "metadata": {},
   "outputs": [
    {
     "name": "stdout",
     "output_type": "stream",
     "text": [
      "Source (Answer) Sentence:\t on december 19 , 2011 , then mayor michael r. bloomberg announced his choice of cornell university and technion-israel institute of technology to build a us$ 2 billion graduate school of applied sciences called cornell tech on roosevelt island with the goal of transforming new york city into the world 's premier technology capital .\n",
      "Target (Question) Label: what is the cost to build cornell tech ?\n",
      "Target (Question) Raw Prediction: what program did forbes university in 2011 ?\n",
      "Target (Question) Postprocessed Prediction: what program did forbes university in 2011 ?\n",
      "\n",
      "Source (Answer) Sentence:\t the 1825 completion of the erie canal through central new york connected the atlantic port to the agricultural markets and commodities of the north american interior via the hudson river and the great lakes .\n",
      "Target (Question) Label: the erie canal was finished being built in what year ?\n",
      "Target (Question) Raw Prediction: what is the capital in new york connected the atlantic port\n",
      "Target (Question) Postprocessed Prediction: what is the capital in new york connected the atlantic port\n",
      "\n",
      "Source (Answer) Sentence:\t in june 2011 the canadian armed forces chief of force development announced the establishment of a new organization , the directorate of cybernetics , headed by a brigadier general , the director general cyber -lrb- dg cyber -rrb- .\n",
      "Target (Question) Label: when was the directorate of cybernetics established ?\n",
      "Target (Question) Raw Prediction: what organization is the organization ?\n",
      "Target (Question) Postprocessed Prediction: what organization is the organization ?\n",
      "\n",
      "Source (Answer) Sentence:\t in theravada buddhism , the ultimate goal is the attainment of the sublime state of nirvana , achieved by practicing the noble eightfold path -lrb- also known as the middle way -rrb- , thus escaping what is seen as a cycle of suffering and rebirth .\n",
      "Target (Question) Label: how is nirvana achieved ?\n",
      "Target (Question) Raw Prediction: what is the goal ?\n",
      "Target (Question) Postprocessed Prediction: what is the goal ?\n",
      "\n",
      "Source (Answer) Sentence:\t west began dating reality star and longtime friend kim kardashian in april 2012 .\n",
      "Target (Question) Label: when did kanye west start dating kim kardashian ?\n",
      "Target (Question) Raw Prediction: when did west begin ?\n",
      "Target (Question) Postprocessed Prediction: when did west begin ?\n",
      "\n",
      "Source (Answer) Sentence:\t the spread of antibacterial resistance often occurs through vertical transmission of mutations during growth and by genetic recombination of dna by horizontal genetic exchange .\n",
      "Target (Question) Label: when does the spread of antibacterial resistance frequently occurs /\n",
      "Target (Question) Raw Prediction: what is the spread of dna exchange the spread of dna exchange the spread of dna exchange\n",
      "Target (Question) Postprocessed Prediction: what is the spread of dna exchange the spread of dna exchange the spread of dna exchange\n",
      "\n",
      "Source (Answer) Sentence:\t david archuleta 's performance of john lennon 's `` imagine '' was considered by many as one of the best of the season .\n",
      "Target (Question) Label: which david archuletta cover was thought to be the best of the season by many ?\n",
      "Target (Question) Raw Prediction: what video game , in terms of john 's performance ?\n",
      "Target (Question) Postprocessed Prediction: what video game , in terms of john 's performance ?\n",
      "\n",
      "Source (Answer) Sentence:\t the location at the mouth of the hudson river , which feeds into a naturally sheltered harbor and then into the atlantic ocean , has helped the city grow in significance as a trading port .\n",
      "Target (Question) Label: the hudson river flows into which body of water ?\n",
      "Target (Question) Raw Prediction: what river the city of the river thames into the hudson river flow into the hudson river\n",
      "Target (Question) Postprocessed Prediction: what river the city of the river thames into the hudson river flow into the hudson river\n",
      "\n"
     ]
    }
   ],
   "source": [
    "# print out a few postprocesse predictions\n",
    "for i in range(8):\n",
    "    print('Source (Answer) Sentence:\\t', \" \".join(data.source_data[i]))\n",
    "    print('Target (Question) Label:', \" \".join(data.target_data[i]))\n",
    "    print('Target (Question) Raw Prediction:', \" \".join(all_preds_list[i]))\n",
    "    print('Target (Question) Postprocessed Prediction:', \" \".join(clean_preds_list[i]))\n",
    "    print('')"
   ]
  },
  {
   "cell_type": "code",
   "execution_count": 15,
   "metadata": {},
   "outputs": [],
   "source": [
    "import matplotlib.pyplot as plt\n",
    "import matplotlib.ticker as ticker\n",
    "\n",
    "def showAttention(input_sentence, output_words, attentions):\n",
    "    # Set up figure with colorbar\n",
    "    fig = plt.figure()\n",
    "    ax = fig.add_subplot(111)\n",
    "    cax = ax.matshow(torch.transpose(attentions, 0, 1), cmap='bone', aspect='auto')\n",
    "    fig.colorbar(cax)\n",
    "\n",
    "    print('input_sentence: ', input_sentence)\n",
    "    print('output_words: ', output_words)\n",
    "    \n",
    "    # Set up axes\n",
    "    ax.set_xticklabels([''] + input_sentence.split(' '), rotation=90)\n",
    "    ax.set_yticklabels([''] + output_words.split(' '))\n",
    "\n",
    "    # Show label at every tick\n",
    "    ax.xaxis.set_major_locator(ticker.MultipleLocator(1))\n",
    "    ax.yaxis.set_major_locator(ticker.MultipleLocator(1))\n",
    "\n",
    "    plt.show()"
   ]
  },
  {
   "cell_type": "code",
   "execution_count": null,
   "metadata": {},
   "outputs": [],
   "source": [
    "sample_set_preds = all_cleaned_preds_list[0]\n",
    "sample_set_attns = all_attn_score_list[0]\n",
    "\n",
    "print('sample_set_preds size: ', len(sample_set_preds))\n",
    "print('sample_set_attns size: ', len(sample_set_attns))\n",
    "\n",
    "for idx, prediction in enumerate(sample_set_preds): \n",
    "    pred_sentence = ' '.join(prediction)\n",
    "    print('prediction sentence: ', pred_sentence)\n",
    "    print('attention size: ', sample_set_attns[idx].size()) \n",
    "    #print('attention: ', all_attn_score_list[0][idx]) \n",
    "\n",
    "    attn_matrix = torch.Tensor.cpu(sample_set_attns[idx][:len(data.source_data[idx])])\n",
    "    label = raw_labels_list[0][idx]\n",
    "    showAttention(' '.join(data.source_data[idx]), ' '.join(prediction), attn_matrix)"
   ]
  },
  {
   "cell_type": "code",
   "execution_count": 10,
   "metadata": {},
   "outputs": [],
   "source": [
    "# PLOT TRAIN AND VAL LOSS\n",
    "import matplotlib.pyplot as plt \n",
    "def plot_over_training(per_epoch_metrics, title_name, subtitle_name, num_epochs):\n",
    "    t = np.arange(1, num_epochs+1)\n",
    "\n",
    "    fig, ax1 = plt.subplots()\n",
    "\n",
    "    colors = ['tab:blue', 'tab:red']\n",
    "    ax1.set_xlabel('epochs')\n",
    "    ax1.set_ylabel('loss')\n",
    "\n",
    "    for key, color in zip(per_epoch_metrics, colors):\n",
    "        label = f'{key}_loss' if key != 'test' else 'val_loss'\n",
    "        ax1.plot(t, per_epoch_metrics[key], color=color, linewidth=1, label=label)\n",
    "\n",
    "    ax1.tick_params(axis='y')\n",
    "    ax1.legend(loc='upper right')\n",
    "\n",
    "    fig.tight_layout\n",
    "    plt.suptitle(title_name, fontsize=14, y=1)\n",
    "    plt.title(subtitle_name, fontsize=10)\n",
    "    plt.show()\n"
   ]
  },
  {
   "cell_type": "code",
   "execution_count": 11,
   "metadata": {},
   "outputs": [
    {
     "data": {
      "image/png": "[encoded data removed]",
      "text/plain": [
       "<Figure size 432x288 with 1 Axes>"
      ]
     },
     "metadata": {
      "needs_background": "light"
     },
     "output_type": "display_data"
    }
   ],
   "source": [
    "plot_over_training(plot_cache, 'Losses over 15 epochs', 'Model: seq2seq LSTM, Embeddings: frozen', 15)"
   ]
  },
  {
   "cell_type": "code",
   "execution_count": null,
   "metadata": {},
   "outputs": [],
   "source": []
  }
 ],
 "metadata": {
  "kernelspec": {
   "display_name": "Python 3.8.13",
   "language": "python",
   "name": "python3"
  },
  "language_info": {
   "codemirror_mode": {
    "name": "ipython",
    "version": 3
   },
   "file_extension": ".py",
   "mimetype": "text/x-python",
   "name": "python",
   "nbconvert_exporter": "python",
   "pygments_lexer": "ipython3",
   "version": "3.8.13"
  },
  "orig_nbformat": 4,
  "vscode": {
   "interpreter": {
    "hash": "d10e99a7d3ce7799ff53fffb01ded82fc9320fdeabd270dd8a29b265097acaf7"
   }
  }
 },
 "nbformat": 4,
 "nbformat_minor": 2
}
