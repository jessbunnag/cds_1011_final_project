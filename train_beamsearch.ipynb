{
 "cells": [
  {
   "cell_type": "code",
   "execution_count": 1,
   "metadata": {},
   "outputs": [
    {
     "name": "stderr",
     "output_type": "stream",
     "text": [
      "/ext3/conda/1011_project/lib/python3.8/site-packages/tqdm/auto.py:22: TqdmWarning: IProgress not found. Please update jupyter and ipywidgets. See https://ipywidgets.readthedocs.io/en/stable/user_install.html\n",
      "  from .autonotebook import tqdm as notebook_tqdm\n",
      "[nltk_data] Downloading package wordnet to /home/tb2817/nltk_data...\n",
      "[nltk_data]   Package wordnet is already up-to-date!\n",
      "[nltk_data] Downloading package omw-1.4 to /home/tb2817/nltk_data...\n",
      "[nltk_data]   Package omw-1.4 is already up-to-date!\n"
     ]
    }
   ],
   "source": [
    "import torch \n",
    "import torch.nn as nn\n",
    "import torch.nn.functional as F\n",
    "from torch.optim.lr_scheduler import StepLR\n",
    "\n",
    "from encoder import *\n",
    "from AttnDecoder import * \n",
    "from seq2seq import *\n",
    "\n",
    "from build_dataset import *\n",
    "from inference import *\n",
    "from tqdm import tqdm\n",
    "\n",
    "from beamsearch import *"
   ]
  },
  {
   "cell_type": "markdown",
   "metadata": {},
   "source": [
    "# 1. Load dataloaders "
   ]
  },
  {
   "cell_type": "code",
   "execution_count": 2,
   "metadata": {},
   "outputs": [],
   "source": [
    "# set whether or not model is pretrained\n",
    "model_pretrained = True"
   ]
  },
  {
   "cell_type": "code",
   "execution_count": 3,
   "metadata": {},
   "outputs": [],
   "source": [
    "# load data \n",
    "main_data_path = \"data/processed\"\n",
    "\n",
    "train_file_path = {\n",
    "    'source': f\"{main_data_path}/src-train.txt\",\n",
    "    'target': f\"{main_data_path}/tgt-train.txt\"\n",
    "}\n",
    "\n",
    "test_file_path = {\n",
    "    'source': f\"{main_data_path}/src-test.txt\",\n",
    "    'target': f\"{main_data_path}/tgt-test.txt\"\n",
    "}\n",
    "\n",
    "dev_file_path = {\n",
    "    'source': f\"{main_data_path}/src-dev.txt\",\n",
    "    'target': f\"{main_data_path}/tgt-dev.txt\"\n",
    "}\n",
    "\n",
    "# build vocab with train data only \n",
    "vocab = build_train_vocab(train_file_path)\n",
    "\n",
    "# build datasets for all train, test, dev\n",
    "datasets = {\n",
    "    'train': QAPair(train_file_path, vocab),\n",
    "    'test': QAPair(test_file_path, vocab),\n",
    "    'dev': QAPair(dev_file_path, vocab),\n",
    "}\n",
    "\n",
    "# build dataloaders\n",
    "batch_size = 32\n",
    "dataloaders = {}\n",
    "for split, dataset in datasets.items():\n",
    "    dataloaders[split] = DataLoader(\n",
    "        dataset, \n",
    "        batch_size=batch_size, \n",
    "        shuffle=True, \n",
    "        collate_fn=partial(pad_collate_fn, pad_token=dataset.pad_idx)\n",
    "    )"
   ]
  },
  {
   "cell_type": "markdown",
   "metadata": {},
   "source": [
    "# 2. Load parsed GloVe embeddings"
   ]
  },
  {
   "cell_type": "code",
   "execution_count": 4,
   "metadata": {},
   "outputs": [],
   "source": [
    "embed_size = 300\n",
    "pretrained_vectors = {\n",
    "    'enc': torch.load(f'embeddings/encoder_emb_{embed_size}.pt').float(),\n",
    "    'dec': torch.load(f'embeddings/decoder_emb_{embed_size}.pt').float()\n",
    "}\n",
    "\n",
    "# input_size = len(train_dataset.answer_vocab) \n",
    "output_size = len(vocab['target'])"
   ]
  },
  {
   "cell_type": "markdown",
   "metadata": {},
   "source": [
    "# 3. Train loop"
   ]
  },
  {
   "cell_type": "markdown",
   "metadata": {},
   "source": [
    "## 3.1 Define train and eval steps"
   ]
  },
  {
   "cell_type": "code",
   "execution_count": 5,
   "metadata": {},
   "outputs": [],
   "source": [
    "def train_step(batch, model, optimizer, criterion, device):\n",
    "    input = batch.source_vecs.to(device) \n",
    "    inputs_len = batch.source_lens.to(device)\n",
    "    target = batch.target_vecs.to(device)\n",
    "    target_len = batch.target_lens.to(device) \n",
    "    target_input = target[:, :-1]\n",
    "    \n",
    "    model.train()\n",
    "\n",
    "    dec_log_probs, dec_hidden, attn_scores_mat = model(input, target_input, inputs_len, target_len)\n",
    "    \n",
    "    optimizer.zero_grad()\n",
    "    target_out = target[:, 1:]\n",
    "    loss = criterion(dec_log_probs.transpose(1, 2), target_out)\n",
    "    loss.backward()\n",
    "    # clip gradients\n",
    "    nn.utils.clip_grad_norm_(model.parameters(), max_norm=5.0, norm_type=2)\n",
    "    \n",
    "    optimizer.step()\n",
    "\n",
    "    # return the attention scores at the last time step\n",
    "    return loss.item(), dec_log_probs, attn_scores_mat\n",
    "\n",
    "def eval_step(batch, model, criterion, device):\n",
    "    input = batch.source_vecs.to(device) \n",
    "    inputs_len = batch.source_lens.to(device)\n",
    "    target = batch.target_vecs.to(device)\n",
    "    target_len = batch.target_lens.to(device) \n",
    "    target_input = target[:, :-1]\n",
    "    \n",
    "    model.eval()\n",
    "\n",
    "    dec_log_probs, dec_hidden, attn_scores_mat = model(input, target_input, inputs_len, target_len)\n",
    "\n",
    "    target_out = target[:, 1:]\n",
    "    loss = criterion(dec_log_probs.transpose(1, 2), target_out)\n",
    "\n",
    "    # return the attention scores at the last time step\n",
    "    return loss.item(), dec_log_probs, attn_scores_mat\n",
    "    "
   ]
  },
  {
   "cell_type": "markdown",
   "metadata": {},
   "source": [
    "## 3.2 Run train loop"
   ]
  },
  {
   "cell_type": "code",
   "execution_count": 6,
   "metadata": {},
   "outputs": [],
   "source": [
    "# TRAIN LOOP \n",
    "\n",
    "if not model_pretrained:\n",
    "    # initial learning rate\n",
    "    lr = 1.0\n",
    "    # initialize the model, optimizer, and criterion\n",
    "    seq2seq = Seq2Seq(pretrained_vectors, hidden_size=600, output_size=output_size)\n",
    "    optimizer = torch.optim.SGD(seq2seq.parameters(), lr=lr)\n",
    "    criterion = nn.NLLLoss(ignore_index=datasets['train'].pad_idx)\n",
    "    device = \"cuda\" if torch.cuda.is_available() else \"cpu\"\n",
    "\n",
    "    seq2seq.to(device)\n",
    "\n",
    "    plot_cache = {}\n",
    "    plot_cache['train'] = []\n",
    "    plot_cache['dev'] = []\n",
    "\n",
    "    # halve lr at epoch 8\n",
    "    scheduler = StepLR(optimizer, step_size=8, gamma=0.5) \n",
    "\n",
    "    NUM_EPOCHS = 15\n",
    "    for epoch in tqdm(range(NUM_EPOCHS)):    \n",
    "        # train \n",
    "        train_losses = []\n",
    "        for i, data in tqdm(enumerate(dataloaders['train']), leave=False):\n",
    "            curr_loss, dec_log_probs, attn_scores_mat = train_step(data, seq2seq, optimizer, criterion, device)\n",
    "\n",
    "            train_losses.append(curr_loss)\n",
    "\n",
    "        avg_train_loss = np.mean(train_losses)\n",
    "        print(f'Train loss after epoch {epoch+1} = {avg_train_loss}')\n",
    "\n",
    "        # eval \n",
    "        test_losses = []\n",
    "        with torch.no_grad():\n",
    "            for i, data in tqdm(enumerate(dataloaders['dev']), leave=False):\n",
    "                curr_loss, dec_log_probs, attn_scores_mat = eval_step(data, seq2seq, criterion, device)\n",
    "\n",
    "                test_losses.append(curr_loss)\n",
    "\n",
    "            avg_test_loss = np.mean(test_losses)\n",
    "            print(f'Test loss after epoch {epoch+1} = {avg_test_loss}')\n",
    "\n",
    "        plot_cache['train'].append(avg_train_loss)\n",
    "        plot_cache['dev'].append(avg_test_loss)\n",
    "\n",
    "        scheduler.step()\n",
    "\n",
    "    # save the model state\n",
    "    torch.save({'state_dict': seq2seq.state_dict(), 'plot_cache': plot_cache}, 'trained_seq2seq_statedict.pt')\n",
    "else:\n",
    "    # reload the model\n",
    "    seq2seq = Seq2Seq(pretrained_vectors, hidden_size=600, output_size=output_size)\n",
    "    criterion = nn.NLLLoss(ignore_index=datasets['train'].pad_idx)\n",
    "    device = \"cuda\" if torch.cuda.is_available() else \"cpu\"\n",
    "    seq2seq.to(device)\n",
    "\n",
    "    checkpoint = torch.load('trained_seq2seq_statedict.pt')\n",
    "    seq2seq.load_state_dict(checkpoint['state_dict'])\n",
    "    plot_cache = checkpoint['plot_cache']"
   ]
  },
  {
   "cell_type": "code",
   "execution_count": 7,
   "metadata": {},
   "outputs": [
    {
     "name": "stderr",
     "output_type": "stream",
     "text": [
      "                  \r"
     ]
    }
   ],
   "source": [
    "# run inference on the test set\n",
    "test_losses = []\n",
    "all_best_attn_labels = []\n",
    "all_preds_list = []\n",
    "all_labels_list = []\n",
    "raw_labels_list = []\n",
    "all_cleaned_preds_list = []\n",
    "all_bleu_1 = []\n",
    "all_bleu_2 = []\n",
    "all_bleu_3 = []\n",
    "all_bleu_4 = []\n",
    "all_meteor = []\n",
    "all_rouge_l = []\n",
    "with torch.no_grad():\n",
    "    for i, data in tqdm(enumerate(dataloaders['test']), leave=False):\n",
    "        # run beam search inference on the test set\n",
    "        preds_list, labels_list, attn_score_list = beam_search_batch(data, seq2seq, vocab['target'], device, beam_width=1)\n",
    "        \n",
    "        # create a matrix of the best attention score SRC token class \n",
    "        # best_attn_labels = unk_postprocessing(data.source_vecs, attn_scores_mat)\n",
    "        # all_best_attn_labels.append(best_attn_labels)\n",
    "\n",
    "        # evaluate the predictions with the metrics\n",
    "        bleu_1, bleu_2, bleu_3, bleu_4, meteor, rouge_l = eval_metrics(preds_list, labels_list) # meteor, rouge_l\n",
    "        all_bleu_1.append(bleu_1)\n",
    "        all_bleu_2.append(bleu_2)\n",
    "        all_bleu_3.append(bleu_3)\n",
    "        all_bleu_4.append(bleu_4)\n",
    "        all_meteor.append(meteor)\n",
    "        all_rouge_l.append(rouge_l)\n",
    "\n",
    "        # replace all unk tokens with the SRC token with the highest attention\n",
    "        # cleaned_preds_list = []\n",
    "        # for sen_idx in range(len(preds_list)):\n",
    "        #     sentence = []\n",
    "        #     for tok_idx, token in enumerate(preds_list[sen_idx]):\n",
    "        #         if token == '<unk>':\n",
    "        #             src_id = int(best_attn_labels[sen_idx][tok_idx].item())\n",
    "        #             src_token = vocab['source'].decode_idx2token([src_id])\n",
    "        #             sentence.append(src_token[0])\n",
    "        #         else:\n",
    "        #             sentence.append(preds_list[sen_idx][tok_idx])\n",
    "        #     cleaned_preds_list.append(sentence)\n",
    "\n",
    "        all_preds_list.append(preds_list)\n",
    "        all_labels_list.append(labels_list)\n",
    "        # all_cleaned_preds_list.append(cleaned_preds_list)\n",
    "        raw_labels_list.append(data.target_data)\n",
    "\n",
    "    avg_test_loss = np.mean(test_losses)\n",
    "    avg_bleu_1 = np.mean(all_bleu_1)\n",
    "    avg_bleu_2 = np.mean(all_bleu_2)\n",
    "    avg_bleu_3 = np.mean(all_bleu_3)\n",
    "    avg_bleu_4 = np.mean(all_bleu_4)\n",
    "    avg_meteor = np.mean(all_meteor)\n",
    "    avg_rouge_l = np.mean(all_rouge_l)\n",
    "\n",
    "    print(f'Average Test Loss = {avg_test_loss}')\n",
    "    print(f'Average BLEU_1 Score = {avg_bleu_1}')\n",
    "    print(f'Average BLEU_2 Score = {avg_bleu_2}')\n",
    "    print(f'Average BLEU_3 Score = {avg_bleu_3}')\n",
    "    print(f'Average BLEU_4 Score = {avg_bleu_4}')\n",
    "    print(f'Average METEOR Score = {avg_meteor}')\n",
    "    print(f'Average ROUGE_L Score = {avg_rouge_l}')"
   ]
  },
  {
   "cell_type": "code",
   "execution_count": 33,
   "metadata": {},
   "outputs": [
    {
     "name": "stdout",
     "output_type": "stream",
     "text": [
      "Target (Question) Label: what kind of classes are not offered in mittelschule ?\n",
      "Target (Question) Raw Prediction: what kind of classes are not offered in <unk> ?\n",
      "Target (Question) Postprocessed Prediction: what kind of classes are not offered in . ?\n",
      "\n",
      "Target (Question) Label: whats the first year that beyonce appear on the time 100 list ?\n",
      "Target (Question) Raw Prediction: whats the first year that <unk> appear on the time 100 list ?\n",
      "Target (Question) Postprocessed Prediction: whats the first year that . appear on the time 100 list ?\n",
      "\n",
      "Target (Question) Label: what are typical thermal mass material ?\n",
      "Target (Question) Raw Prediction: what are typical thermal mass material ?\n",
      "Target (Question) Postprocessed Prediction: what are typical thermal mass material ?\n",
      "\n",
      "Target (Question) Label: what is the annual precipitation ?\n",
      "Target (Question) Raw Prediction: what is the annual precipitation ?\n",
      "Target (Question) Postprocessed Prediction: what is the annual precipitation ?\n",
      "\n",
      "Target (Question) Label: luminous efficacy is measure in what unit ?\n",
      "Target (Question) Raw Prediction: luminous efficacy is measure in what unit ?\n",
      "Target (Question) Postprocessed Prediction: luminous efficacy is measure in what unit ?\n",
      "\n"
     ]
    }
   ],
   "source": [
    "# print out a few postprocesse predictions\n",
    "for i in range(5):\n",
    "    print('Target (Question) Label:', \" \".join(raw_labels_list[0][i]))\n",
    "    print('Target (Question) Raw Prediction:', \" \".join(all_preds_list[0][i]))\n",
    "    print('Target (Question) Postprocessed Prediction:', \" \".join(all_cleaned_preds_list[0][i]))\n",
    "    print('')"
   ]
  },
  {
   "cell_type": "code",
   "execution_count": 11,
   "metadata": {},
   "outputs": [],
   "source": [
    "# PLOT TRAIN AND VAL LOSS\n",
    "import matplotlib.pyplot as plt \n",
    "def plot_over_training(per_epoch_metrics, title_name, num_epochs):\n",
    "    t = np.arange(1, num_epochs+1)\n",
    "\n",
    "    fig, ax1 = plt.subplots()\n",
    "\n",
    "    colors = ['tab:blue', 'tab:red']\n",
    "    ax1.set_xlabel('epochs')\n",
    "    ax1.set_ylabel('loss')\n",
    "\n",
    "    for key, color in zip(per_epoch_metrics, colors):\n",
    "        label = f'{key}_loss' if key != 'test' else 'val_loss'\n",
    "        ax1.plot(t, per_epoch_metrics[key], color=color, linewidth=1, label=label)\n",
    "\n",
    "    ax1.tick_params(axis='y')\n",
    "    ax1.legend(loc='upper right')\n",
    "\n",
    "    fig.tight_layout\n",
    "    plt.title(title_name)\n",
    "    plt.show()\n"
   ]
  },
  {
   "cell_type": "code",
   "execution_count": 12,
   "metadata": {},
   "outputs": [
    {
     "data": {
      "image/png": "[encoded data removed]",
      "text/plain": [
       "<Figure size 432x288 with 1 Axes>"
      ]
     },
     "metadata": {
      "needs_background": "light"
     },
     "output_type": "display_data"
    }
   ],
   "source": [
    "plot_over_training(plot_cache, 'Train and val loss over 15 epochs', 15)"
   ]
  },
  {
   "cell_type": "code",
   "execution_count": null,
   "metadata": {},
   "outputs": [],
   "source": []
  }
 ],
 "metadata": {
  "kernelspec": {
   "display_name": "Python 3.8.13",
   "language": "python",
   "name": "python3"
  },
  "language_info": {
   "codemirror_mode": {
    "name": "ipython",
    "version": 3
   },
   "file_extension": ".py",
   "mimetype": "text/x-python",
   "name": "python",
   "nbconvert_exporter": "python",
   "pygments_lexer": "ipython3",
   "version": "3.8.13"
  },
  "orig_nbformat": 4,
  "vscode": {
   "interpreter": {
    "hash": "d10e99a7d3ce7799ff53fffb01ded82fc9320fdeabd270dd8a29b265097acaf7"
   }
  }
 },
 "nbformat": 4,
 "nbformat_minor": 2
}
